{
 "cells": [
  {
   "cell_type": "code",
   "execution_count": null,
   "metadata": {},
   "outputs": [],
   "source": [
    "%load_ext autoreload\n",
    "%autoreload 2\n",
    "%matplotlib inline"
   ]
  },
  {
   "cell_type": "code",
   "execution_count": null,
   "metadata": {},
   "outputs": [],
   "source": [
    "import os\n",
    "from pathlib import Path\n",
    "import sys\n",
    "\n",
    "import cv2\n",
    "import dill as pickle\n",
    "import matplotlib.pyplot as plt\n",
    "import numpy as np\n",
    "import open3d as o3d\n",
    "from PIL import Image\n",
    "import plotly.graph_objects as go\n",
    "from tqdm import tqdm\n",
    "from scipy.spatial import KDTree\n",
    "import torch\n",
    "import visu3d as v3d\n",
    "\n",
    "sys.path.append(os.path.join(os.getcwd(), \"dust3r\"))\n",
    "from dust3r.inference import inference\n",
    "from dust3r.model import AsymmetricCroCo3DStereo\n",
    "from dust3r.utils.image import load_images\n",
    "from dust3r.image_pairs import make_pairs\n",
    "from dust3r.cloud_opt import global_aligner, GlobalAlignerMode\n",
    "from lang_sam import LangSAM\n",
    "\n",
    "from barrelnet.dust3r_utils import save_dust3r_outs, read_dust3r, resize_to_dust3r\n",
    "from barrelnet.langsam_utils import display_image_with_masks, display_image_with_boxes\n",
    "from barrelnet.utils import segment_pc_from_mask, get_bbox_mask, get_local_plane_mask"
   ]
  },
  {
   "cell_type": "code",
   "execution_count": null,
   "metadata": {},
   "outputs": [],
   "source": [
    "image_dir = Path(\"data/barrelddt1\")\n",
    "\n",
    "# H, W = (875, 1920)\n",
    "H, W = (224, 512)\n",
    "reconstr_dir = Path(f\"results/{image_dir.name}-reconstr\")\n",
    "mask_dir = reconstr_dir / \"masks\"\n",
    "mask_dir.mkdir(parents=True, exist_ok=True)\n",
    "maskcomp_dir = reconstr_dir / \"image_with_masks\"\n",
    "maskcomp_dir.mkdir(parents=True, exist_ok=True)\n",
    "ply_dir = reconstr_dir / \"pc_plys\"\n",
    "ply_dir.mkdir(parents=True, exist_ok=True)\n",
    "resizeimg_dir = reconstr_dir / \"resized\"\n",
    "resizeimg_dir.mkdir(parents=True, exist_ok=True)\n",
    "text_prompt = \"underwater barrel\"\n",
    "imgpaths = sorted(image_dir.glob(\"*.jpg\"))\n",
    "dust3rout_path = reconstr_dir / \"dust3r_out.pth\""
   ]
  },
  {
   "cell_type": "code",
   "execution_count": null,
   "metadata": {},
   "outputs": [],
   "source": [
    "for imgpath in imgpaths:\n",
    "    img = Image.open(imgpath)\n",
    "    img = resize_to_dust3r(img, 512)\n",
    "    img.save(resizeimg_dir / imgpath.name)"
   ]
  },
  {
   "cell_type": "markdown",
   "metadata": {},
   "source": [
    "# Reconstruction with dust3r"
   ]
  },
  {
   "cell_type": "code",
   "execution_count": null,
   "metadata": {},
   "outputs": [],
   "source": [
    "device = \"cuda\"\n",
    "batch_size = 1\n",
    "schedule = \"cosine\"\n",
    "lr = 0.01\n",
    "niter = 300\n",
    "model_name = \"checkpoints/DUSt3R_ViTLarge_BaseDecoder_512_dpt.pth\"\n",
    "model = AsymmetricCroCo3DStereo.from_pretrained(model_name).to(device)\n",
    "images = load_images(str(image_dir), size=512)\n",
    "pairs = make_pairs(images, scene_graph=\"complete\", prefilter=None, symmetrize=True)\n",
    "output = inference(pairs, model, device, batch_size=batch_size)\n",
    "\n",
    "view1, pred1 = output[\"view1\"], output[\"pred1\"]\n",
    "view2, pred2 = output[\"view2\"], output[\"pred2\"]\n",
    "\n",
    "scene = global_aligner(output, device=device, mode=GlobalAlignerMode.PointCloudOptimizer)\n",
    "loss = scene.compute_global_alignment(init=\"mst\", niter=niter, schedule=schedule, lr=lr)\n",
    "\n",
    "imgs = scene.imgs\n",
    "focals = scene.get_focals()\n",
    "poses = scene.get_im_poses()\n",
    "pts3d = scene.get_pts3d()\n",
    "save_dust3r_outs(focals, poses, pts3d, savepath=dust3rout_path)\n",
    "confidence_masks = scene.get_masks()"
   ]
  },
  {
   "cell_type": "code",
   "execution_count": null,
   "metadata": {},
   "outputs": [],
   "source": [
    "pts_final, pts_each, v3dcams = read_dust3r(dust3rout_path, W, H)\n",
    "pc = v3d.Point3d(p=pts_each[0])"
   ]
  },
  {
   "cell_type": "code",
   "execution_count": null,
   "metadata": {},
   "outputs": [],
   "source": [
    "pcd = o3d.geometry.PointCloud()\n",
    "pcd.points = o3d.utility.Vector3dVector(pts_final)\n",
    "o3d.io.write_point_cloud(str(ply_dir / f\"pts_agg.ply\"), pcd)\n",
    "for i, imgpts in enumerate(pts_each):\n",
    "    pcd = o3d.geometry.PointCloud()\n",
    "    pcd.points = o3d.utility.Vector3dVector(imgpts)\n",
    "    o3d.io.write_point_cloud(str(ply_dir / f\"{imgpaths[i].stem}_pts.ply\"), pcd)"
   ]
  },
  {
   "cell_type": "markdown",
   "metadata": {},
   "source": [
    "# segmentation with SAM"
   ]
  },
  {
   "cell_type": "code",
   "execution_count": null,
   "metadata": {},
   "outputs": [],
   "source": [
    "model = LangSAM()"
   ]
  },
  {
   "cell_type": "code",
   "execution_count": null,
   "metadata": {},
   "outputs": [],
   "source": [
    "bboxes = []\n",
    "for i, imgpath in enumerate(tqdm(imgpaths)):\n",
    "    imgpath = resizeimg_dir / imgpath.name\n",
    "    image_pil = Image.open(imgpath).convert(\"RGB\")\n",
    "\n",
    "    masks, boxes, phrases, logits = model.predict(image_pil, text_prompt)\n",
    "\n",
    "    if len(masks) == 0:\n",
    "        print(f\"No objects of the '{text_prompt}' prompt detected in the image.\")\n",
    "    else:\n",
    "        # Convert masks to numpy arrays\n",
    "        masks_np = [mask.squeeze().cpu().numpy() for mask in masks]\n",
    "\n",
    "        bbox_mask_path = maskcomp_dir / f\"{imgpath.stem}_img_with_mask.png\"\n",
    "        bbox_mask_path.parent.mkdir(parents=True, exist_ok=True)\n",
    "        display_image_with_masks(image_pil, masks_np, boxes, logits, figwidth=13, savefig=bbox_mask_path, all_masks=True, show=False)\n",
    "\n",
    "        # Save the masks\n",
    "        for i, mask_np in enumerate(masks_np):\n",
    "            # each box is x_min, y_min, x_max, y_max\n",
    "            bbox = boxes[i]\n",
    "            mask_path = mask_dir / f\"{imgpath.stem}_mask_{i+1}.png\"\n",
    "            mask_image = Image.fromarray((mask_np * 255).astype(np.uint8))\n",
    "            mask_image.save(mask_path)\n",
    "            if i == 0:\n",
    "                bboxes.append(bbox)\n",
    "\n",
    "bboxes = np.array(bboxes, dtype=int)\n",
    "with open(reconstr_dir / \"bboxes.pickle\", \"wb\") as f:\n",
    "    pickle.dump(bboxes, f)"
   ]
  },
  {
   "cell_type": "code",
   "execution_count": null,
   "metadata": {},
   "outputs": [],
   "source": [
    "with open(reconstr_dir / \"bboxes.pickle\", \"rb\") as f:\n",
    "    bboxes = pickle.load(f)"
   ]
  },
  {
   "cell_type": "code",
   "execution_count": null,
   "metadata": {},
   "outputs": [],
   "source": [
    "imgid2mask = {}\n",
    "for idx, img in enumerate(imgpaths):\n",
    "    imgname = Path(img.name).stem\n",
    "    maskpath = mask_dir / f\"{imgname}_mask_1.png\"\n",
    "    if maskpath.exists():\n",
    "        # imgid2mask[idx] = cv2.imread(str(maskpath), cv2.IMREAD_GRAYSCALE)\n",
    "        maskpil = Image.open(maskpath).convert(\"1\").resize((W, H), Image.Resampling.NEAREST)\n",
    "        imgid2mask[idx] = np.asarray(maskpil)\n",
    "npts = pc.shape[0]\n",
    "idxs = np.arange(npts)\n",
    "barrelscores = np.zeros(npts)\n",
    "for i, mask in imgid2mask.items():\n",
    "    v3dcam = v3dcams[i]\n",
    "    barrelidxs = segment_pc_from_mask(pc, mask, v3dcam)\n",
    "    barrelscores[barrelidxs] += 1\n",
    "barrelyes = barrelscores > len(imgid2mask) / 3\n",
    "segcols = np.zeros_like(pc.p, dtype=np.uint8)\n",
    "segcols[barrelyes] = [50, 222, 100]\n",
    "segcols[~barrelyes] = [255, 0, 0]\n",
    "segpc = v3d.Point3d(p=pc.p, rgb=segcols)\n",
    "v3d.make_fig(segpc)"
   ]
  },
  {
   "cell_type": "code",
   "execution_count": null,
   "metadata": {},
   "outputs": [],
   "source": [
    "bbox = bboxes[0]\n",
    "diffmask = get_local_plane_mask(bbox, 1.1, 1.6, W, H)\n",
    "plt.imshow(diffmask)"
   ]
  },
  {
   "cell_type": "code",
   "execution_count": null,
   "metadata": {},
   "outputs": [],
   "source": [
    "pc = v3d.Point3d(p=pts_each[0])\n",
    "v3dcam = v3dcams[0]\n",
    "localflooridxs = segment_pc_from_mask(pc, diffmask, v3dcam)\n",
    "segcols = np.zeros_like(pc.p, dtype=np.uint8)\n",
    "segcols[:, 0] = 255\n",
    "segcols[localflooridxs] = [50, 222, 100]\n",
    "segpc = v3d.Point3d(p=pc.p, rgb=segcols)\n",
    "v3d.make_fig(segpc)"
   ]
  },
  {
   "cell_type": "code",
   "execution_count": null,
   "metadata": {},
   "outputs": [],
   "source": [
    "import pyransac3d as pyrsc\n",
    "\n",
    "points = pc.p[localflooridxs] # Load your point cloud as a numpy array (N, 3)\n",
    "\n",
    "plane1 = pyrsc.Plane()\n",
    "best_eq, best_inliers = plane1.fit(points, 0.01)"
   ]
  },
  {
   "cell_type": "code",
   "execution_count": null,
   "metadata": {},
   "outputs": [],
   "source": [
    "print(best_eq)"
   ]
  },
  {
   "cell_type": "code",
   "execution_count": null,
   "metadata": {},
   "outputs": [],
   "source": [
    "a, b, c, d = best_eq\n",
    "normal = np.array([a, b, c])\n",
    "xx, yy = np.meshgrid(np.linspace(-0.2, 0.2, 10), np.linspace(-0.2, 0.2, 10))\n",
    "zz = (-a * xx - b * yy - d) / c\n",
    "raycent = np.mean(segpc[localflooridxs].p, axis=0)\n",
    "fig = v3d.make_fig([segpc[localflooridxs], v3d.Ray(pos=raycent, dir=-normal / 3)])\n",
    "plane = go.Surface(x=xx, y=yy, z=zz, opacity=0.2)\n",
    "fig.add_trace(plane)\n",
    "fig.show()"
   ]
  },
  {
   "cell_type": "code",
   "execution_count": null,
   "metadata": {},
   "outputs": [],
   "source": [
    "asdf = rotate_to_zax_np(segpc.p, normal, [0, 0, 1])\n",
    "v3d.Point3d(p=asdf, rgb=segcols).fig"
   ]
  },
  {
   "cell_type": "markdown",
   "metadata": {},
   "source": [
    "# Pointnet stuff"
   ]
  },
  {
   "cell_type": "markdown",
   "metadata": {},
   "source": []
  }
 ],
 "metadata": {
  "kernelspec": {
   "display_name": "barrels",
   "language": "python",
   "name": "python3"
  },
  "language_info": {
   "codemirror_mode": {
    "name": "ipython",
    "version": 3
   },
   "file_extension": ".py",
   "mimetype": "text/x-python",
   "name": "python",
   "nbconvert_exporter": "python",
   "pygments_lexer": "ipython3",
   "version": "3.9.19"
  }
 },
 "nbformat": 4,
 "nbformat_minor": 2
}
