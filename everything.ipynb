{
 "cells": [
  {
   "cell_type": "code",
   "execution_count": null,
   "metadata": {},
   "outputs": [],
   "source": [
    "%load_ext autoreload\n",
    "%autoreload 2\n",
    "%matplotlib inline"
   ]
  },
  {
   "cell_type": "code",
   "execution_count": null,
   "metadata": {},
   "outputs": [],
   "source": [
    "import os\n",
    "from pathlib import Path\n",
    "import sys\n",
    "\n",
    "import cv2\n",
    "import dill as pickle\n",
    "import matplotlib.pyplot as plt\n",
    "import numpy as np\n",
    "import open3d as o3d\n",
    "from PIL import Image\n",
    "import plotly.graph_objects as go\n",
    "import pyransac3d as pyrsc\n",
    "from tqdm import tqdm\n",
    "from scipy.spatial import KDTree\n",
    "import torch\n",
    "import transforms3d as t3d\n",
    "import visu3d as v3d\n",
    "\n",
    "sys.path.append(os.path.join(os.getcwd(), \"dust3r\"))\n",
    "from dust3r.inference import inference\n",
    "from dust3r.model import AsymmetricCroCo3DStereo\n",
    "from dust3r.utils.image import load_images\n",
    "from dust3r.image_pairs import make_pairs\n",
    "from dust3r.cloud_opt import global_aligner, GlobalAlignerMode\n",
    "from lang_sam import LangSAM\n",
    "\n",
    "from barrelnet.pointnet.pointnet_utils import PointNetEncoder, feature_transform_reguliarzer\n",
    "from barrelnet.pointnet.barrelnet import BarrelNet\n",
    "from barrelnet.pointnet.data import pts2inference_format\n",
    "from barrelnet.dust3r_utils import save_dust3r_outs, read_dust3r, resize_to_dust3r\n",
    "from barrelnet.langsam_utils import display_image_with_masks, display_image_with_boxes\n",
    "from barrelnet.utils import segment_pc_from_mask, get_local_plane_mask, rotate_pts_to_ax, get_surface_line_traces, get_ray_trace\n",
    "from barrelnet.synthbarrel import get_cyl_endpoints, get_cylinder_surf"
   ]
  },
  {
   "cell_type": "code",
   "execution_count": null,
   "metadata": {},
   "outputs": [],
   "source": [
    "# image_dir = Path(\"data/dive8-barrel-10-45-less\")\n",
    "# image_dir = Path(\"data/barrel1-5sec-contrast\")\n",
    "image_dir = Path(\"data/barrelddt1\")\n",
    "# image_dir = Path(\"data/barrel2-5sec-contrast\")\n",
    "\n",
    "if not image_dir.exists():\n",
    "    raise FileNotFoundError(f\"Image directory {image_dir} not found.\")\n",
    "\n",
    "# H, W = (875, 1920)\n",
    "H, W = (224, 512)\n",
    "reconstr_dir = Path(f\"results/{image_dir.name}-reconstr\")\n",
    "mask_dir = reconstr_dir / \"masks\"\n",
    "mask_dir.mkdir(parents=True, exist_ok=True)\n",
    "maskcomp_dir = reconstr_dir / \"image_with_masks\"\n",
    "maskcomp_dir.mkdir(parents=True, exist_ok=True)\n",
    "ply_dir = reconstr_dir / \"pc_plys\"\n",
    "ply_dir.mkdir(parents=True, exist_ok=True)\n",
    "resizeimg_dir = reconstr_dir / \"resized\"\n",
    "resizeimg_dir.mkdir(parents=True, exist_ok=True)\n",
    "text_prompt = \"underwater barrel\"\n",
    "imgpaths = sorted(image_dir.glob(\"*.jpg\"))\n",
    "dust3rout_path = reconstr_dir / \"dust3r_out.pth\""
   ]
  },
  {
   "cell_type": "code",
   "execution_count": null,
   "metadata": {},
   "outputs": [],
   "source": [
    "for imgpath in imgpaths:\n",
    "    img = Image.open(imgpath)\n",
    "    img = resize_to_dust3r(img, 512)\n",
    "    img.save(resizeimg_dir / imgpath.name)"
   ]
  },
  {
   "cell_type": "markdown",
   "metadata": {},
   "source": [
    "# Reconstruction with dust3r"
   ]
  },
  {
   "cell_type": "code",
   "execution_count": null,
   "metadata": {},
   "outputs": [],
   "source": [
    "device = \"cuda\"\n",
    "model_name = \"checkpoints/DUSt3R_ViTLarge_BaseDecoder_512_dpt.pth\"\n",
    "model = AsymmetricCroCo3DStereo.from_pretrained(model_name).to(device)"
   ]
  },
  {
   "cell_type": "code",
   "execution_count": null,
   "metadata": {},
   "outputs": [],
   "source": [
    "batch_size = 1\n",
    "schedule = \"cosine\"\n",
    "lr = 0.01\n",
    "niter = 300\n",
    "images = load_images(str(image_dir), size=512)\n",
    "pairs = make_pairs(images, scene_graph=\"complete\", prefilter=None, symmetrize=True)\n",
    "output = inference(pairs, model, device, batch_size=batch_size)\n",
    "\n",
    "scene = global_aligner(output, device=device, mode=GlobalAlignerMode.PointCloudOptimizer)\n",
    "loss = scene.compute_global_alignment(init=\"mst\", niter=niter, schedule=schedule, lr=lr)\n",
    "\n",
    "outdict = save_dust3r_outs(scene, dust3rout_path)"
   ]
  },
  {
   "cell_type": "code",
   "execution_count": null,
   "metadata": {},
   "outputs": [],
   "source": [
    "pc_final, pcs_each, v3dcams = read_dust3r(dust3rout_path)\n",
    "pc_idx = -1\n",
    "pc = pcs_each[pc_idx]\n",
    "v3dcam = v3dcams[pc_idx]\n",
    "# pc = pc_final\n",
    "v3d.make_fig([pc, v3dcams])"
   ]
  },
  {
   "cell_type": "code",
   "execution_count": null,
   "metadata": {},
   "outputs": [],
   "source": [
    "plt.imshow(v3dcams[0].render(pc))"
   ]
  },
  {
   "cell_type": "code",
   "execution_count": null,
   "metadata": {},
   "outputs": [],
   "source": [
    "pcd = o3d.geometry.PointCloud()\n",
    "pcd.points = o3d.utility.Vector3dVector(pc_final.p)\n",
    "pcd.colors = o3d.utility.Vector3dVector(pc_final.rgb.astype(np.float64) / 255)\n",
    "o3d.io.write_point_cloud(str(ply_dir / f\"pts_agg.ply\"), pcd)\n",
    "for i, imgpc in enumerate(pcs_each):\n",
    "    pcd = o3d.geometry.PointCloud()\n",
    "    pcd.points = o3d.utility.Vector3dVector(imgpc.p)\n",
    "    pcd.colors = o3d.utility.Vector3dVector(imgpc.rgb.astype(np.float64) / 255)\n",
    "    o3d.io.write_point_cloud(str(ply_dir / f\"{imgpaths[i].stem}_pts.ply\"), pcd)"
   ]
  },
  {
   "cell_type": "markdown",
   "metadata": {},
   "source": [
    "# segmentation with SAM"
   ]
  },
  {
   "cell_type": "markdown",
   "metadata": {},
   "source": [
    "## running language-SAM"
   ]
  },
  {
   "cell_type": "code",
   "execution_count": null,
   "metadata": {},
   "outputs": [],
   "source": [
    "model = LangSAM()"
   ]
  },
  {
   "cell_type": "code",
   "execution_count": null,
   "metadata": {},
   "outputs": [],
   "source": [
    "bboxes = []\n",
    "for i, imgpath in enumerate(tqdm(imgpaths)):\n",
    "    imgpath = resizeimg_dir / imgpath.name\n",
    "    image_pil = Image.open(imgpath).convert(\"RGB\")\n",
    "\n",
    "    masks, boxes, phrases, logits = model.predict(image_pil, text_prompt)\n",
    "\n",
    "    if len(masks) == 0:\n",
    "        print(f\"No objects of the '{text_prompt}' prompt detected in the image.\")\n",
    "    else:\n",
    "        masks_np = [mask.squeeze().cpu().numpy() for mask in masks]\n",
    "\n",
    "        bbox_mask_path = maskcomp_dir / f\"{imgpath.stem}_img_with_mask.png\"\n",
    "        bbox_mask_path.parent.mkdir(parents=True, exist_ok=True)\n",
    "        display_image_with_masks(image_pil, masks_np, boxes, logits, figwidth=13, savefig=bbox_mask_path, all_masks=True, show=False)\n",
    "\n",
    "        # save masks\n",
    "        for i, mask_np in enumerate(masks_np):\n",
    "            # each box is x_min, y_min, x_max, y_max\n",
    "            bbox = boxes[i]\n",
    "            mask_path = mask_dir / f\"{imgpath.stem}_mask_{i+1}.png\"\n",
    "            mask_image = Image.fromarray((mask_np * 255).astype(np.uint8))\n",
    "            mask_image.save(mask_path)\n",
    "            if i == 0:\n",
    "                bboxes.append(bbox)\n",
    "\n",
    "bboxes = np.array(bboxes, dtype=int)\n",
    "with open(reconstr_dir / \"bboxes.pickle\", \"wb\") as f:\n",
    "    pickle.dump(bboxes, f)"
   ]
  },
  {
   "cell_type": "code",
   "execution_count": null,
   "metadata": {},
   "outputs": [],
   "source": [
    "with open(reconstr_dir / \"bboxes.pickle\", \"rb\") as f:\n",
    "    bboxes = pickle.load(f)"
   ]
  },
  {
   "cell_type": "markdown",
   "metadata": {},
   "source": [
    "## segmenting point cloud"
   ]
  },
  {
   "cell_type": "code",
   "execution_count": null,
   "metadata": {},
   "outputs": [],
   "source": [
    "imgid2mask = {}\n",
    "for idx, img in enumerate(imgpaths):\n",
    "    imgname = Path(img.name).stem\n",
    "    maskpath = mask_dir / f\"{imgname}_mask_1.png\"\n",
    "    if maskpath.exists():\n",
    "        # imgid2mask[idx] = cv2.imread(str(maskpath), cv2.IMREAD_GRAYSCALE)\n",
    "        maskpil = Image.open(maskpath).convert(\"1\").resize((W, H), Image.Resampling.NEAREST)\n",
    "        masknp = np.asarray(maskpil)\n",
    "        masknperoded = cv2.erode((masknp * 255).astype(np.uint8), np.ones((5, 5), np.uint8), iterations=2)\n",
    "        imgid2mask[idx] = masknperoded\n",
    "npts = pc.shape[0]\n",
    "idxs = np.arange(npts)\n",
    "barrelscores = np.zeros(npts)\n",
    "for i, mask in imgid2mask.items():\n",
    "    v3dcam = v3dcams[i]\n",
    "    barrelidxs = segment_pc_from_mask(pc, mask, v3dcam)\n",
    "    barrelscores[barrelidxs] += 1\n",
    "# arbitrary 1/3 of images see the point threshold\n",
    "barrelyes = barrelscores > len(imgid2mask) / 2\n",
    "barrelcols = np.zeros_like(pc.p, dtype=np.uint8)\n",
    "barrelcols[barrelyes] = [50, 222, 100]\n",
    "barrelcols[~barrelyes] = [255, 0, 0]\n",
    "barrelsegpc = v3d.Point3d(p=pc.p, rgb=barrelcols)\n",
    "v3d.make_fig(barrelsegpc)"
   ]
  },
  {
   "cell_type": "markdown",
   "metadata": {},
   "source": [
    "## fit plane to local seafloor around barrel, then rotate scene"
   ]
  },
  {
   "cell_type": "code",
   "execution_count": null,
   "metadata": {},
   "outputs": [],
   "source": [
    "bbox = bboxes[pc_idx]\n",
    "diffmask = get_local_plane_mask(bbox, 1.1, 1.6, W, H)\n",
    "plt.imshow(diffmask)"
   ]
  },
  {
   "cell_type": "code",
   "execution_count": null,
   "metadata": {},
   "outputs": [],
   "source": [
    "localflooridxs = segment_pc_from_mask(pc, diffmask, v3dcam)\n",
    "floorcols = np.zeros_like(pc.p, dtype=np.uint8)\n",
    "floorcols[:, 0] = 255\n",
    "floorcols[localflooridxs] = [50, 222, 100]\n",
    "floorsegpc = v3d.Point3d(p=pc.p, rgb=floorcols)\n",
    "\n",
    "localfloorpts = pc.p[localflooridxs]\n",
    "\n",
    "plane1 = pyrsc.Plane()\n",
    "best_eq, best_inliers = plane1.fit(localfloorpts, thresh=0.005)\n",
    "a, b, c, d = best_eq\n",
    "normal = np.array([a, b, c])\n",
    "xx, yy = np.meshgrid(np.linspace(-0.2, 0.2, 10), np.linspace(-0.2, 0.2, 10))\n",
    "zz = (-a * xx - b * yy - d) / c\n",
    "raycent = np.mean(floorsegpc[localflooridxs].p, axis=0)\n",
    "fig = v3d.make_fig([floorsegpc, v3d.Ray(pos=raycent, dir=normal / 5)])\n",
    "plane = go.Surface(x=xx, y=yy, z=zz, opacity=0.2)\n",
    "fig.add_trace(plane)\n",
    "fig.show()"
   ]
  },
  {
   "cell_type": "code",
   "execution_count": null,
   "metadata": {},
   "outputs": [],
   "source": [
    "scene_all_cols = np.zeros_like(barrelcols)\n",
    "scene_all_cols[:] = [200, 0, 0]\n",
    "scene_all_cols[barrelyes] = [70, 242, 22]\n",
    "scene_all_cols[localflooridxs] = [54, 218, 255]\n",
    "# rotate scene, then flip upside down if it rotates upside down\n",
    "rotatedpts, R = rotate_pts_to_ax(floorsegpc.p, normal, [0, 0, 1.0], ret_R=True)\n",
    "T = np.eye(4)\n",
    "T[:3, :3] = R\n",
    "rotatedpts = np.hstack([rotatedpts, np.ones((rotatedpts.shape[0], 1))])\n",
    "unrotatedpts = np.hstack([floorsegpc.p, np.ones((rotatedpts.shape[0], 1))])\n",
    "dtrans = np.eye(4)\n",
    "dtrans[2, 3] = d\n",
    "rotatedpts = (dtrans @ rotatedpts.T).T\n",
    "if np.mean(rotatedpts[barrelyes, 2]) < 0:\n",
    "    rot180 = np.eye(4)\n",
    "    rot180[:3, :3] = np.array([[1, 0, 0], [0, -1, 0], [0, 0, -1]])\n",
    "    rotatedpts = (rot180 @ rotatedpts.T).T\n",
    "    T = rot180 @ dtrans @ T\n",
    "else:\n",
    "    T = dtrans @ T\n",
    "rotatedpts = rotatedpts[:, :3]\n",
    "rotatedpc = v3d.Point3d(p=rotatedpts, rgb=pc.rgb)\n",
    "\n",
    "# v3d.make_fig([v3d.Point3d(p=rotatedpts, rgb=barrelcols), v3dcams.apply_transform(v3d.Transform.from_matrix(T))])\n",
    "xx, yy = np.meshgrid(np.linspace(np.min(rotatedpts[:, 0]), np.max(rotatedpts[:, 0]), 10), np.linspace(np.min(rotatedpts[:, 1]), np.max(rotatedpts[:, 1]), 10))\n",
    "zz = np.zeros_like(xx)\n",
    "raycent = np.mean(floorsegpc[localflooridxs].p, axis=0)\n",
    "plane = go.Surface(x=xx, y=yy, z=zz, opacity=0.5, colorscale=\"purples\")\n",
    "fig = v3d.make_fig([v3d.Point3d(p=rotatedpts, rgb=scene_all_cols)])\n",
    "fig.add_traces([\n",
    "    plane,\n",
    "    get_ray_trace([np.mean(rotatedpc.p[:, 0]), np.mean(rotatedpc.p[:, 1]), 0], [0, 0, 1], color=\"#6e0a6c\", length=0.1, width=5, markersize=10),\n",
    "    *get_surface_line_traces(xx, yy, zz)\n",
    "])"
   ]
  },
  {
   "cell_type": "code",
   "execution_count": null,
   "metadata": {},
   "outputs": [],
   "source": [
    "rotpcdict = {\n",
    "    \"p\": rotatedpts,\n",
    "    \"isbarrel\": barrelyes,\n",
    "    \"rgb\": pc.rgb,\n",
    "    \"T\": T\n",
    "}\n",
    "with open(reconstr_dir / \"rotatedpts.pickle\", \"wb\") as f:\n",
    "    pickle.dump(rotpcdict, f)"
   ]
  },
  {
   "cell_type": "markdown",
   "metadata": {},
   "source": [
    "# Pointnet stuff"
   ]
  },
  {
   "cell_type": "code",
   "execution_count": null,
   "metadata": {},
   "outputs": [],
   "source": [
    "# barrelpc = v3d.Point3d(p=rotatedpts[barrelyes & (rotatedpts[:, 2] > 0.01) & (rotatedpts[:, 1] < 0.2)])\n",
    "barrelpts = rotatedpts[barrelyes]\n",
    "barrelxymean = np.mean(barrelpts[:, :2], axis=0)\n",
    "# barrelpts = barrelpts - np.array([barrelxymean[0], barrelxymean[1], 0])\n",
    "barrelpc = v3d.Point3d(p=barrelpts)\n",
    "R = t3d.euler.euler2mat(-np.pi/2, 0, 0)\n",
    "T = np.eye(4)\n",
    "T[:3, :3] = R\n",
    "barrelpc_yup = barrelpc.apply_transform(v3d.Transform.from_matrix(T))\n",
    "barrelpc_yup.fig"
   ]
  },
  {
   "cell_type": "code",
   "execution_count": null,
   "metadata": {},
   "outputs": [],
   "source": [
    "## Load Model \n",
    "model_path = \"checkpoints/pointnet_iter80_fixed.pth\"\n",
    "pointnet = BarrelNet(k=5, normal_channel=False)\n",
    "pointnet.load_state_dict(torch.load(model_path))\n",
    "pointnet.cuda().eval()"
   ]
  },
  {
   "cell_type": "code",
   "execution_count": null,
   "metadata": {},
   "outputs": [],
   "source": [
    "pts, scale = pts2inference_format(torch.tensor(barrelpc_yup.p, device=\"cuda\").float(), max_points=1000)\n",
    "with torch.no_grad():\n",
    "    radius_pred, yshift_pred, axis_pred = pointnet(pts)\n",
    "    radius_pred = radius_pred.cpu().numpy()[0]\n",
    "    yshift_pred = yshift_pred.cpu().numpy()[0]\n",
    "    axis_pred = axis_pred.cpu().numpy()[0]\n",
    "axis_pred, yshift_pred, radius_pred"
   ]
  },
  {
   "cell_type": "code",
   "execution_count": null,
   "metadata": {},
   "outputs": [],
   "source": [
    "height_ratio = 2.8\n",
    "axis_pred = axis_pred / np.linalg.norm(axis_pred)\n",
    "# scale predictions\n",
    "r = scale * radius_pred\n",
    "h = r * height_ratio\n",
    "y = yshift_pred * h\n",
    "axpred_zup = np.linalg.inv(T)[:3, :3] @ axis_pred\n",
    "x1, x2 = get_cyl_endpoints(axpred_zup, h, y, axidx=2)\n",
    "x1[[0, 1]] += np.mean(barrelpc.p, axis=0)[[0, 1]]\n",
    "x2[[0, 1]] += np.mean(barrelpc.p, axis=0)[[0, 1]]\n",
    "c = (x1 + x2) / 2\n",
    "print(h, r, y)\n",
    "print(x1, x2)\n",
    "\n",
    "xx, yy, zz = get_cylinder_surf(x1, x2, r)\n",
    "fig = v3d.make_fig([rotatedpc])\n",
    "fig.add_trace(get_ray_trace(c, axpred_zup, length=h, width=8, color=\"#e81b00\", markersize=10))\n",
    "cylsurf = go.Surface(x=xx, y=yy, z=zz, opacity=1.0, surfacecolor=np.zeros_like(xx), colorscale=\"oranges\")\n",
    "fig.add_traces(get_surface_line_traces(xx, yy, zz, step=5, include_horizontal=False))\n",
    "xmin, xmax = np.min(rotatedpc.p[:, 0]), np.max(rotatedpc.p[:, 0])\n",
    "ymin, ymax = np.min(rotatedpc.p[:, 1]), np.max(rotatedpc.p[:, 1])\n",
    "xx, yy = np.meshgrid(np.linspace(xmin, xmax, 10), np.linspace(ymin, ymax, 10))\n",
    "zz = np.zeros_like(xx)\n",
    "planesurf = go.Surface(x=xx, y=yy, z=zz, opacity=0.5, colorscale=\"purples\")\n",
    "fig.add_traces(get_surface_line_traces(xx, yy, zz))\n",
    "fig.add_trace(cylsurf)\n",
    "fig.add_trace(planesurf)\n",
    "fig.show()"
   ]
  }
 ],
 "metadata": {
  "kernelspec": {
   "display_name": "barrels",
   "language": "python",
   "name": "python3"
  },
  "language_info": {
   "codemirror_mode": {
    "name": "ipython",
    "version": 3
   },
   "file_extension": ".py",
   "mimetype": "text/x-python",
   "name": "python",
   "nbconvert_exporter": "python",
   "pygments_lexer": "ipython3",
   "version": "3.9.19"
  }
 },
 "nbformat": 4,
 "nbformat_minor": 2
}
