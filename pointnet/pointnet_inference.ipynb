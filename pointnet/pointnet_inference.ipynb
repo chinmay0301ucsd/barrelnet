{
 "cells": [
  {
   "cell_type": "markdown",
   "metadata": {},
   "source": [
    "# BarrelNet Inference Notebook\n",
    "This Notebook will run the code to run an inference pipeline for the trained Model, given a single Barrel point cloud sample as input. "
   ]
  },
  {
   "cell_type": "code",
   "execution_count": 1,
   "metadata": {},
   "outputs": [],
   "source": [
    "import torch.nn as nn\n",
    "import torch.utils.data\n",
    "import torch.nn.functional as F\n",
    "from tqdm import tqdm\n",
    "import os\n",
    "import torch\n",
    "import torch.optim as optim\n",
    "import numpy as np\n",
    "from torch.utils.tensorboard import SummaryWriter\n",
    "import uuid\n",
    "import roma\n",
    "from data import generate_cylinder_pts, prepare_point_cloud, normalize_pc, CylinderData\n",
    "from mpl_toolkits.mplot3d import Axes3D\n",
    "from torch.utils.data import Dataset, DataLoader\n",
    "from pointnet_utils import PointNetEncoder, feature_transform_reguliarzer\n",
    "from barrelnet import BarrelNet"
   ]
  },
  {
   "cell_type": "code",
   "execution_count": 6,
   "metadata": {},
   "outputs": [],
   "source": [
    "## Load Model \n",
    "model_path = 'weights/pointnet.pth'\n",
    "\n",
    "pointnet = BarrelNet(k=4, normal_channel=False).cuda()\n",
    "pointnet.load_state_dict(torch.load(model_path))\n",
    "pointnet.eval()\n",
    "\n",
    "## TODO Write code here to prepare a random input point cloud for inference. \n",
    "pts = torch.rand(1100).cuda() ## Replace this with dust3r point cloud extracted for the barrel\n",
    "pts, scale = normalize_pc(pts[0])\n",
    "with torch.no_grad():\n",
    "    radius_pred, axis_pred = pointnet(pts)"
   ]
  },
  {
   "cell_type": "code",
   "execution_count": 7,
   "metadata": {},
   "outputs": [
    {
     "data": {
      "text/plain": [
       "tensor([[-0.5774,  0.5774,  0.5774]], device='cuda:0')"
      ]
     },
     "execution_count": 7,
     "metadata": {},
     "output_type": "execute_result"
    }
   ],
   "source": [
    "axis_pred"
   ]
  },
  {
   "cell_type": "code",
   "execution_count": null,
   "metadata": {},
   "outputs": [],
   "source": []
  }
 ],
 "metadata": {
  "kernelspec": {
   "display_name": "dust3r",
   "language": "python",
   "name": "python3"
  },
  "language_info": {
   "codemirror_mode": {
    "name": "ipython",
    "version": 3
   },
   "file_extension": ".py",
   "mimetype": "text/x-python",
   "name": "python",
   "nbconvert_exporter": "python",
   "pygments_lexer": "ipython3",
   "version": "3.11.9"
  }
 },
 "nbformat": 4,
 "nbformat_minor": 2
}
