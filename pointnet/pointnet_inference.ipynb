{
 "cells": [
  {
   "cell_type": "markdown",
   "metadata": {},
   "source": [
    "# BarrelNet Inference Notebook\n",
    "This Notebook will run the code to run an inference pipeline for the trained Model, given a single Barrel point cloud sample as input. "
   ]
  },
  {
   "cell_type": "code",
   "execution_count": 1,
   "metadata": {},
   "outputs": [],
   "source": [
    "import torch.nn as nn\n",
    "import torch.utils.data\n",
    "import torch.nn.functional as F\n",
    "from tqdm import tqdm\n",
    "import os\n",
    "import torch\n",
    "import torch.optim as optim\n",
    "import numpy as np\n",
    "from torch.utils.tensorboard import SummaryWriter\n",
    "import uuid\n",
    "import roma\n",
    "from data import generate_cylinder_pts, prepare_point_cloud, normalize_pc, CylinderData\n",
    "from mpl_toolkits.mplot3d import Axes3D\n",
    "from torch.utils.data import Dataset, DataLoader\n",
    "from pointnet_utils import PointNetEncoder, feature_transform_reguliarzer\n",
    "from barrelnet import BarrelNet\n",
    "from data import pad_point_cloud\n",
    "\n",
    "def inference_format(points, max_points=1000):\n",
    "    \"\"\" Convert pts in the right format for input to pointnet\n",
    "    Args:\n",
    "\t\tpoints: [N,3] torch tensor\n",
    "\t\n",
    "\tReturns:\n",
    "\t\tpts [1,N,3]\n",
    "\t\tscale \n",
    "  \n",
    "    \"\"\"\n",
    "    pts, scale = normalize_pc(points)\n",
    "    pts = pad_point_cloud(pts, max_points)\n",
    "    pts = pts.permute(1,0)\n",
    "    pts = pts.unsqueeze(0)\n",
    "    return pts, scale\n",
    "    "
   ]
  },
  {
   "cell_type": "code",
   "execution_count": 6,
   "metadata": {},
   "outputs": [],
   "source": [
    "## Load Model \n",
    "model_path = 'weights/pointnet.pth'\n",
    "height_ratio = 2.5\n",
    "pointnet = BarrelNet(k=4, normal_channel=False).cuda()\n",
    "pointnet.load_state_dict(torch.load(model_path))\n",
    "pointnet.eval()\n",
    "\n",
    "## TODO Write code here to prepare a random input point cloud for inference. \n",
    "pts = torch.rand(1000,3).cuda() ## Replace this with dust3r point cloud extracted for the barrel\n",
    "pts, scale = inference_format(pts)\n",
    "with torch.no_grad():\n",
    "    radius_pred, zshift_pred, axis_pred = pointnet(pts)\n",
    "    r = radius_pred * scale\n",
    "    h = radius_pred * height_ratio\n",
    "    z = zshift_pred * h\n",
    "    ## Jerry add code here to compute monte carlo burial fraction from cylinder given r,h,z, axis of the cylinder"
   ]
  },
  {
   "cell_type": "code",
   "execution_count": 61,
   "metadata": {},
   "outputs": [
    {
     "name": "stderr",
     "output_type": "stream",
     "text": [
      "100%|██████████| 10000/10000 [02:04<00:00, 80.25it/s]\n"
     ]
    },
    {
     "data": {
      "text/plain": [
       "<matplotlib.collections.PathCollection at 0x7f89921c9ed0>"
      ]
     },
     "execution_count": 61,
     "metadata": {},
     "output_type": "execute_result"
    },
    {
     "data": {
      "image/png": "[encoded data removed]",
      "text/plain": [
       "<Figure size 640x480 with 1 Axes>"
      ]
     },
     "metadata": {},
     "output_type": "display_data"
    }
   ],
   "source": [
    "## Experiment to check how much monte carlo approach differs from the z  - 0.5 approx\n",
    "import torch\n",
    "import numpy as np \n",
    "from util import random_cylinder, monte_carlo_volume_ratio\n",
    "import matplotlib.pyplot as plt\n",
    "from tqdm import tqdm\n",
    "\n",
    "def sample_normals(num_samples, device='cuda'):\n",
    "\t\"\"\"\n",
    "\tSample random unit vectors uniformly distributed on the upper hemisphere.\n",
    "\t\n",
    "\tArgs:\n",
    "\t\tnum_samples (int): Number of unit vectors to sample.\n",
    "\t\tdevice (str): Device to perform the computation ('cpu' or 'cuda').\n",
    "\t\t\n",
    "\tReturns:\n",
    "\t\ttorch.Tensor: Tensor of shape (num_samples, 3) containing the sampled unit vectors.\n",
    "\t\"\"\"\n",
    "\tphi = torch.rand(num_samples, device=device) * 2 * torch.pi\n",
    "\ttheta = torch.acos(torch.rand(num_samples, device=device))\n",
    "\n",
    "\tx = torch.sin(theta) * torch.cos(phi)\n",
    "\ty = torch.sin(theta) * torch.sin(phi)\n",
    "\tz = torch.cos(theta)\n",
    "\n",
    "\treturn torch.stack((x, y, z), dim=1)\n",
    "\n",
    "\n",
    "normals = sample_normals(10000).cpu().numpy()\n",
    "\n",
    "height = 2.3 \n",
    "radius = 1.0\n",
    "\n",
    "gt, approx = [], []\n",
    "for normal in tqdm(normals):\n",
    "\tshift = (np.random.rand(1) - 0.5)[0]\n",
    "\torigin = np.array([0., 0., shift*height])\n",
    "\tx1 = origin + normal*height/2\n",
    "\tx2 = origin - normal*height/2 \n",
    "\n",
    "\ta,b,c,d = 0,0,1,0 # ax + by + cz +d = 0 \n",
    "\tburial_frac_gt = 1 - monte_carlo_volume_ratio(100000, x1, x2, radius, a,b,c,d)\n",
    "\tburial_frac_approx = np.clip(0.5 - shift,0,1)\n",
    "\tgt.append(burial_frac_gt)\n",
    "\tapprox.append(burial_frac_approx)\n",
    "\n",
    "plt.scatter(gt, approx)\n",
    "plt.xlabel('Ground Truth Burial Percentage')\n",
    "plt.ylabel('Approximation with 0.5 - shift')"
   ]
  }
 ],
 "metadata": {
  "kernelspec": {
   "display_name": "dust3r",
   "language": "python",
   "name": "python3"
  },
  "language_info": {
   "codemirror_mode": {
    "name": "ipython",
    "version": 3
   },
   "file_extension": ".py",
   "mimetype": "text/x-python",
   "name": "python",
   "nbconvert_exporter": "python",
   "pygments_lexer": "ipython3",
   "version": "3.11.9"
  }
 },
 "nbformat": 4,
 "nbformat_minor": 2
}
