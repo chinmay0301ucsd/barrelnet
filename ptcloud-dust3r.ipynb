{
 "cells": [
  {
   "cell_type": "code",
   "execution_count": null,
   "metadata": {},
   "outputs": [],
   "source": [
    "%load_ext autoreload\n",
    "%autoreload 2\n",
    "%matplotlib inline"
   ]
  },
  {
   "cell_type": "code",
   "execution_count": null,
   "metadata": {},
   "outputs": [],
   "source": [
    "from pathlib import Path\n",
    "from typing import List, Tuple, Dict\n",
    "\n",
    "import cv2\n",
    "import dataclass_array as dca\n",
    "import matplotlib.pyplot as plt\n",
    "import numpy as np\n",
    "import open3d as o3d\n",
    "import pandas as pd\n",
    "from PIL import Image\n",
    "import scipy.io\n",
    "from sklearn import linear_model\n",
    "import transforms3d as t3d\n",
    "import visu3d as v3d\n",
    "\n",
    "from barrelnet.dust3r_utils import read_dust3r\n",
    "from barrelnet.utils import cmapvals, segment_pc_from_mask"
   ]
  },
  {
   "cell_type": "code",
   "execution_count": null,
   "metadata": {},
   "outputs": [],
   "source": [
    "H, W = (224, 512)\n",
    "image_dir = Path(\"data/barrelddt1\")\n",
    "# assumption: dust3r data sorted by image name alphabetically\n",
    "imgpaths = sorted(image_dir.glob(\"*.jpg\"))\n",
    "\n",
    "output_dir = Path(f\"results/{image_dir.name}-reconstr\")\n",
    "dustpath = output_dir / \"dust3r_out.pth\"\n",
    "\n",
    "pts_all, pts_each, v3dcams = read_dust3r(dustpath, W, H)\n",
    "\n",
    "img_navs = pd.read_csv(image_dir / \"frame-time-nav.csv\")\n",
    "img_navs[\"timestamp\"] = pd.to_datetime(img_navs[\"timestamp\"])\n",
    "\n",
    "imgid2mask = {}\n",
    "for idx, img in enumerate(imgpaths):\n",
    "    imgname = Path(img.name).stem\n",
    "    maskpath = output_dir / f\"masks/{imgname}_mask_1.png\"\n",
    "    if maskpath.exists():\n",
    "        # imgid2mask[idx] = cv2.imread(str(maskpath), cv2.IMREAD_GRAYSCALE)\n",
    "        maskpil = Image.open(maskpath).convert(\"1\").resize((W, H), Image.Resampling.NEAREST)\n",
    "        imgid2mask[idx] = np.asarray(maskpil)\n",
    "\n",
    "pc = v3d.Point3d(p=pts_each[0])\n",
    "\n",
    "\n",
    "v3d.make_fig([\n",
    "    pc,\n",
    "    v3dcams\n",
    "])"
   ]
  },
  {
   "cell_type": "code",
   "execution_count": null,
   "metadata": {},
   "outputs": [],
   "source": [
    "# camrender = v3dcams[0].render(pc)\n",
    "# fig, ax = plt.subplots()\n",
    "# ax.imshow(camrender)\n",
    "# plt.show()"
   ]
  },
  {
   "cell_type": "code",
   "execution_count": null,
   "metadata": {},
   "outputs": [],
   "source": [
    "npts = pc.shape[0]\n",
    "idxs = np.arange(npts)\n",
    "barrelscores = np.zeros(npts)\n",
    "for i, mask in imgid2mask.items():\n",
    "    v3dcam = v3dcams[i]\n",
    "    barrelidxs = segment_pc_from_mask(pc, mask, v3dcam)\n",
    "    barrelscores[barrelidxs] += 1\n",
    "barrelyes = barrelscores > len(imgid2mask) / 3\n",
    "segcols = np.zeros_like(pc.p, dtype=np.uint8)\n",
    "segcols[barrelyes] = [50, 222, 100]\n",
    "segcols[~barrelyes] = [255, 0, 0]\n",
    "segpc = v3d.Point3d(p=pc.p, rgb=segcols)\n",
    "v3d.make_fig(segpc)"
   ]
  }
 ],
 "metadata": {
  "kernelspec": {
   "display_name": "barrels",
   "language": "python",
   "name": "python3"
  },
  "language_info": {
   "codemirror_mode": {
    "name": "ipython",
    "version": 3
   },
   "file_extension": ".py",
   "mimetype": "text/x-python",
   "name": "python",
   "nbconvert_exporter": "python",
   "pygments_lexer": "ipython3",
   "version": "3.9.19"
  }
 },
 "nbformat": 4,
 "nbformat_minor": 2
}
