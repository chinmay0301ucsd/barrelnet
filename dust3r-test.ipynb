{
 "cells": [
  {
   "cell_type": "code",
   "execution_count": null,
   "metadata": {},
   "outputs": [],
   "source": [
    "from pathlib import Path\n",
    "from typing import List, Tuple, Dict\n",
    "\n",
    "import torch \n",
    "import numpy as np \n",
    "import matplotlib.pyplot as plt\n",
    "import plotly.graph_objects as go\n",
    "import numpy as np\n",
    "import scipy.io\n",
    "import visu3d as v3d"
   ]
  },
  {
   "cell_type": "code",
   "execution_count": null,
   "metadata": {},
   "outputs": [],
   "source": [
    "H, W = (875, 1920)\n",
    "outs = torch.load(\"checkpoints/dust3r_out.pth\")\n",
    "\n",
    "pts_final = []\n",
    "v3dcams: List[v3d.Camera] = []\n",
    "for i in range(len(outs[\"poses\"])):\n",
    "  f = outs[\"focals\"][i, 0]\n",
    "  cam_spec = v3d.PinholeCamera.from_focal(\n",
    "      resolution=(H, W),\n",
    "      focal_in_px=f,\n",
    "  )\n",
    "  pose = outs[\"poses\"][i]\n",
    "  R, t = pose[:3,:3], pose[:3,3:].T\n",
    "  pts = outs[\"pts3d\"][i]\n",
    "  # pts = outs[\"pts3d\"][i]@R.T + t \n",
    "  pts_final.append(pts)\n",
    "  T = pose\n",
    "  v3dcam = v3d.Camera(\n",
    "      spec=cam_spec,\n",
    "      world_from_cam=v3d.Transform.from_matrix(T)\n",
    "  )\n",
    "  v3dcams.append(v3dcam)\n",
    "\n",
    "pts_final = torch.stack(pts_final).view(-1,3).numpy()\n",
    "\n",
    "x = pts_final[::10,0]\n",
    "y = pts_final[::10,1]\n",
    "z = pts_final[::10,2]"
   ]
  },
  {
   "cell_type": "code",
   "execution_count": null,
   "metadata": {},
   "outputs": [],
   "source": [
    "pts_final.shape"
   ]
  },
  {
   "cell_type": "code",
   "execution_count": null,
   "metadata": {},
   "outputs": [],
   "source": [
    "# Create 3D scatter plot\n",
    "fig = go.Figure(data=[go.Scatter3d(\n",
    "    x=x, y=y, z=z,\n",
    "    mode=\"markers\",\n",
    "    marker=dict(\n",
    "        size=1,\n",
    "        color=\"blue\",  # Set color to blue\n",
    "        opacity=0.8\n",
    "    )\n",
    ")])\n",
    "\n",
    "# Update layout\n",
    "fig.update_layout(scene=dict(\n",
    "                    xaxis_title=\"X AXIS\",\n",
    "                    yaxis_title=\"Y AXIS\",\n",
    "                    zaxis_title=\"Z AXIS\"),\n",
    "                width=700,\n",
    "                margin=dict(r=20, b=10, l=10, t=10))\n",
    "\n",
    "# Show the plot\n",
    "fig.show()"
   ]
  },
  {
   "cell_type": "code",
   "execution_count": null,
   "metadata": {},
   "outputs": [],
   "source": [
    "outs"
   ]
  },
  {
   "cell_type": "code",
   "execution_count": null,
   "metadata": {},
   "outputs": [],
   "source": [
    "pose"
   ]
  },
  {
   "cell_type": "code",
   "execution_count": null,
   "metadata": {},
   "outputs": [],
   "source": [
    "ptcloud = v3d.Point3d(p=pts_final[::10, :])\n",
    "v3d.make_fig([ptcloud])"
   ]
  },
  {
   "cell_type": "code",
   "execution_count": null,
   "metadata": {},
   "outputs": [],
   "source": [
    "x, y, z = ptcloud.p[:, 0], ptcloud.p[:, 1], ptcloud.p[:, 2]\n",
    "matdata = {\n",
    "    \"scenex\": x,\n",
    "    \"sceney\": y,\n",
    "    \"scenez\": z,\n",
    "    \"isbarrel\": 0\n",
    "}\n",
    "scipy.io.savemat(Path(\"../results/barrel2-reconstr\") / \"barrel2-dense-seg.mat\", matdata)"
   ]
  }
 ],
 "metadata": {
  "kernelspec": {
   "display_name": "barrels",
   "language": "python",
   "name": "python3"
  },
  "language_info": {
   "codemirror_mode": {
    "name": "ipython",
    "version": 3
   },
   "file_extension": ".py",
   "mimetype": "text/x-python",
   "name": "python",
   "nbconvert_exporter": "python",
   "pygments_lexer": "ipython3",
   "version": "3.10.14"
  }
 },
 "nbformat": 4,
 "nbformat_minor": 2
}
