{
 "cells": [
  {
   "cell_type": "code",
   "execution_count": null,
   "metadata": {},
   "outputs": [],
   "source": [
    "%load_ext autoreload\n",
    "%autoreload 2\n",
    "%matplotlib inline"
   ]
  },
  {
   "cell_type": "code",
   "execution_count": null,
   "metadata": {},
   "outputs": [],
   "source": [
    "import os\n",
    "from pathlib import Path\n",
    "import sys\n",
    "\n",
    "import cv2\n",
    "import dill as pickle\n",
    "import matplotlib.pyplot as plt\n",
    "import numpy as np\n",
    "import open3d as o3d\n",
    "from PIL import Image\n",
    "import plotly.graph_objects as go\n",
    "import pyransac3d as pyrsc\n",
    "from tqdm import tqdm\n",
    "from scipy.spatial import KDTree\n",
    "import torch\n",
    "import visu3d as v3d\n",
    "\n",
    "sys.path.append(os.path.join(os.getcwd(), \"dust3r\"))\n",
    "from dust3r.inference import inference\n",
    "from dust3r.model import AsymmetricCroCo3DStereo\n",
    "from dust3r.utils.image import load_images\n",
    "from dust3r.image_pairs import make_pairs\n",
    "from dust3r.cloud_opt import global_aligner, GlobalAlignerMode\n",
    "from lang_sam import LangSAM\n",
    "\n",
    "from barrelnet.pointnet.pointnet_utils import PointNetEncoder, feature_transform_reguliarzer\n",
    "from barrelnet.pointnet.barrelnet import BarrelNet\n",
    "from barrelnet.pointnet.data import pts2inference_format\n",
    "from barrelnet.dust3r_utils import save_dust3r_outs, read_dust3r, resize_to_dust3r\n",
    "from barrelnet.langsam_utils import display_image_with_masks, display_image_with_boxes\n",
    "from barrelnet.utils import segment_pc_from_mask, get_local_plane_mask, rotate_pts_to_ax, get_bbox_mask\n",
    "from barrelnet.synthbarrel import get_cyl_endpoints, get_cylinder_surf"
   ]
  },
  {
   "cell_type": "code",
   "execution_count": null,
   "metadata": {},
   "outputs": [],
   "source": [
    "image_dir = Path(\"data/dive8-barrel-10-45\")\n",
    "\n",
    "# H, W = (875, 1920)\n",
    "H, W = (224, 512)\n",
    "reconstr_dir = Path(f\"results/{image_dir.name}-reconstr\")\n",
    "mask_dir = reconstr_dir / \"masks\"\n",
    "resizeimg_dir = reconstr_dir / \"resized\"\n",
    "imgpaths = sorted(image_dir.glob(\"*.jpg\"))\n",
    "dust3rout_path = reconstr_dir / \"dust3r_out.pth\""
   ]
  },
  {
   "cell_type": "code",
   "execution_count": null,
   "metadata": {},
   "outputs": [],
   "source": [
    "image_dir.parent"
   ]
  },
  {
   "cell_type": "code",
   "execution_count": null,
   "metadata": {},
   "outputs": [],
   "source": [
    "with open(reconstr_dir / \"bboxes.pickle\", \"rb\") as f:\n",
    "    bboxes = pickle.load(f)"
   ]
  },
  {
   "cell_type": "code",
   "execution_count": null,
   "metadata": {},
   "outputs": [],
   "source": [
    "(image_dir.parent / \"maskedbbox\").mkdir(exist_ok=True, parents=True)\n",
    "boxed = []\n",
    "for i, imgpath in enumerate(imgpaths):\n",
    "    img = Image.open(resizeimg_dir / imgpath.name).convert(\"RGB\")\n",
    "    imgname = Path(imgpath.name).stem\n",
    "    bbox = bboxes[i]\n",
    "    imgnp = np.array(img)\n",
    "    H, W, _ = imgnp.shape\n",
    "    masknp = get_bbox_mask(bbox, W, H)\n",
    "    imgboxed = imgnp * (masknp[..., None] > 0)\n",
    "    boxed.append(imgboxed)\n",
    "    Image.fromarray(imgboxed).save((image_dir.parent / \"maskedbbox\") / f\"{imgname}-boxed.jpg\")"
   ]
  },
  {
   "cell_type": "code",
   "execution_count": null,
   "metadata": {},
   "outputs": [],
   "source": []
  }
 ],
 "metadata": {
  "kernelspec": {
   "display_name": "barrels",
   "language": "python",
   "name": "python3"
  },
  "language_info": {
   "codemirror_mode": {
    "name": "ipython",
    "version": 3
   },
   "file_extension": ".py",
   "mimetype": "text/x-python",
   "name": "python",
   "nbconvert_exporter": "python",
   "pygments_lexer": "ipython3",
   "version": "3.9.19"
  }
 },
 "nbformat": 4,
 "nbformat_minor": 2
}
