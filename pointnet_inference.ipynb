{
 "cells": [
  {
   "cell_type": "markdown",
   "metadata": {},
   "source": [
    "# BarrelNet Inference Notebook\n",
    "This Notebook will run the code to run an inference pipeline for the trained Model, given a single Barrel point cloud sample as input. "
   ]
  },
  {
   "cell_type": "code",
   "execution_count": null,
   "metadata": {},
   "outputs": [],
   "source": [
    "%load_ext autoreload\n",
    "%autoreload 2\n",
    "%matplotlib inline"
   ]
  },
  {
   "cell_type": "code",
   "execution_count": null,
   "metadata": {},
   "outputs": [],
   "source": [
    "import torch.nn as nn\n",
    "import torch.utils.data\n",
    "import torch.nn.functional as F\n",
    "from tqdm import tqdm\n",
    "import matplotlib.pyplot as plt\n",
    "import numpy as np\n",
    "import os\n",
    "import torch\n",
    "import torch.optim as optim\n",
    "import numpy as np\n",
    "from torch.utils.tensorboard import SummaryWriter\n",
    "import trimesh\n",
    "import plotly.graph_objects as go\n",
    "import uuid\n",
    "import roma\n",
    "import visu3d as v3d\n",
    "import scipy.linalg\n",
    "from barrelnet.pointnet.data import generate_cylinder_pts, prepare_point_cloud, normalize_pc, CylinderData\n",
    "from mpl_toolkits.mplot3d import Axes3D\n",
    "from torch.utils.data import Dataset, DataLoader\n",
    "from barrelnet.pointnet.pointnet_utils import PointNetEncoder, feature_transform_reguliarzer\n",
    "from barrelnet.pointnet.barrelnet import BarrelNet\n",
    "from barrelnet.pointnet.data import pad_point_cloud\n",
    "from barrelnet.synthbarrel import random_cylinder_vol, random_cylinder_surf, monte_carlo_volume_ratio, generate_oriented_barrel, get_cyl_endpoints, get_cylinder_surf"
   ]
  },
  {
   "cell_type": "code",
   "execution_count": null,
   "metadata": {},
   "outputs": [],
   "source": [
    "def inference_format(points, max_points=1000):\n",
    "    \"\"\" Convert pts in the right format for input to pointnet\n",
    "    Args:\n",
    "        points: [N,3] torch tensor\n",
    "\n",
    "    Returns:\n",
    "        pts [1,N,3]\n",
    "        scale \n",
    "    \"\"\"\n",
    "    pts, scale = normalize_pc(points)\n",
    "    pts = pad_point_cloud(pts, max_points)\n",
    "    pts = pts.permute(1,0)\n",
    "    pts = pts.unsqueeze(0)\n",
    "    return pts, scale"
   ]
  },
  {
   "cell_type": "code",
   "execution_count": null,
   "metadata": {},
   "outputs": [],
   "source": [
    "## Load Model \n",
    "model_path = \"checkpoints/pointnet_iter7000.pth\"\n",
    "height_ratio = 2.5  # height / radius ratio\n",
    "pointnet = BarrelNet(k=5, normal_channel=False).cuda()\n",
    "pointnet.load_state_dict(torch.load(model_path))\n",
    "pointnet.eval()"
   ]
  },
  {
   "cell_type": "code",
   "execution_count": null,
   "metadata": {},
   "outputs": [],
   "source": [
    "# cylnp = random_cylinder_surf([0, 0, 0], [0, 0, height_ratio], 1, 5000).astype(np.float32)\n",
    "cylh = 2.5\n",
    "cylr = cylh / height_ratio\n",
    "ntrials = 5000\n",
    "\n",
    "axtruths = []\n",
    "axpreds = []\n",
    "ztruths = []\n",
    "zpreds = []\n",
    "rtruths = []\n",
    "rpreds = []\n",
    "pcs = []\n",
    "cos_sims = []\n",
    "burialtruths = []\n",
    "burialpreds = []\n",
    "burial_errs = []\n",
    "trialresults = []\n",
    "for i in tqdm(range(ntrials)):\n",
    "    results = {}\n",
    "    cylnp, _, cylax, cylz = generate_oriented_barrel(cylr, cylh, 5000, sigma=0.05, zlims=[-0.3, 0.3])\n",
    "    x1truth, x2truth = get_cyl_endpoints(cylax, height_ratio, cylz)\n",
    "    burialtruth = monte_carlo_volume_ratio(10000, x1truth, x2truth, cylr, 0, 0, 1, 0)\n",
    "    results[\"axtruth\"] = cylax\n",
    "    results[\"pc\"] = cylnp\n",
    "    results[\"ztruth\"] = cylz\n",
    "    results[\"rtruth\"] = cylr\n",
    "    results[\"x1truth\"] = x1truth\n",
    "    results[\"x2truth\"] = x2truth\n",
    "    results[\"burialtruth\"] = burialtruth\n",
    "\n",
    "    cylnp = cylnp.astype(np.float32)\n",
    "    pts = torch.from_numpy(cylnp).cuda()\n",
    "    pts, scale = inference_format(pts)\n",
    "    with torch.no_grad():\n",
    "        radius_pred, zshift_pred, axis_pred = pointnet(pts)\n",
    "        radius_pred = radius_pred.cpu().numpy()[0]\n",
    "        zshift_pred = zshift_pred.cpu().numpy()[0]\n",
    "        axis_pred = axis_pred.cpu().numpy()[0]\n",
    "    axis_pred = axis_pred / np.linalg.norm(axis_pred)\n",
    "    axpreds.append(axis_pred)\n",
    "    r = radius_pred * scale\n",
    "    h = r * height_ratio\n",
    "    z = zshift_pred * h\n",
    "    zpreds.append(z)\n",
    "    rpreds.append(r)\n",
    "    x1, x2 = get_cyl_endpoints(axis_pred, h, z)\n",
    "    burialpred = monte_carlo_volume_ratio(10000, x1, x2, r, 0, 0, 1, 0)\n",
    "    burialpreds.append(burialpred)\n",
    "    \n",
    "    cos_sims.append(np.abs(cylax @ axis_pred))\n",
    "    burial_errs.append(np.abs(burialtruth - burialpred))\n",
    "\n",
    "    # print(\"TRUTH\")\n",
    "    # print(f\"axis: {cylax}\\nradius: {cylr}\\nheight: {cylh}\\nz-offset: {cylz}\")\n",
    "    # print(f\"burial percentage: {burialtruth}\")\n",
    "    # print(\"PREDICTED\")\n",
    "    # print(radius_pred, zshift_pred, axis_pred)\n",
    "    # print(f\"axis: {axis_pred}\\nradius: {r}\\nheight: {h}\\nz-offset: {z}\")\n",
    "    # print(f\"burial percentage: {burialpred}\")\n",
    "\n",
    "    # truthray = v3d.Ray(pos=[0,0,0], dir=cylax)\n",
    "    # predray = v3d.Ray(pos=[0,0,0], dir=axis_pred)\n",
    "    # v3d.make_fig([v3d.Point3d(p=cylnp), truthray, predray])"
   ]
  },
  {
   "cell_type": "code",
   "execution_count": null,
   "metadata": {},
   "outputs": [],
   "source": [
    "cylz"
   ]
  },
  {
   "cell_type": "code",
   "execution_count": null,
   "metadata": {},
   "outputs": [],
   "source": [
    "print(np.mean(cos_sims), np.std(cos_sims))\n",
    "print(np.mean(burial_errs), np.std(burial_errs))"
   ]
  },
  {
   "cell_type": "code",
   "execution_count": null,
   "metadata": {},
   "outputs": [],
   "source": [
    "np.sum(np.array(cos_sims) < 0.9)"
   ]
  },
  {
   "cell_type": "code",
   "execution_count": null,
   "metadata": {},
   "outputs": [],
   "source": [
    "plt.hist(burialtruths)"
   ]
  },
  {
   "cell_type": "code",
   "execution_count": null,
   "metadata": {},
   "outputs": [],
   "source": [
    "plt.hist(burial_errs)"
   ]
  },
  {
   "cell_type": "code",
   "execution_count": null,
   "metadata": {},
   "outputs": [],
   "source": [
    "zerrs = np.abs(np.array(ztruths) - zpreds)\n",
    "plt.hist(zerrs)"
   ]
  },
  {
   "cell_type": "code",
   "execution_count": null,
   "metadata": {},
   "outputs": [],
   "source": [
    "rerrs = np.abs(np.array(rtruths) - rpreds)\n",
    "plt.hist(rerrs)"
   ]
  },
  {
   "cell_type": "code",
   "execution_count": null,
   "metadata": {},
   "outputs": [],
   "source": [
    "worstidx = np.argmin(cos_sims)\n",
    "worstidx = 8\n",
    "truthray = v3d.Ray(pos=[0,0,0], dir=axtruths[worstidx])\n",
    "predray = v3d.Ray(pos=[0,0,0], dir=axpreds[worstidx])\n",
    "v3d.make_fig([v3d.Point3d(p=pcs[worstidx]), truthray, predray])"
   ]
  },
  {
   "cell_type": "code",
   "execution_count": null,
   "metadata": {},
   "outputs": [],
   "source": [
    "x, y, z = get_cylinder_surf([0, 0, 0], [1, 2, 1], 1)\n",
    "\n",
    "cyl1 = go.Surface(\n",
    "    x=x, y=y, z=z,\n",
    "    #  colorscale = colorscale,\n",
    "    #  showscale=False,\n",
    "    opacity=0.5)\n",
    "fig = go.Figure(data=[cyl1])\n",
    "fig.show()"
   ]
  }
 ],
 "metadata": {
  "kernelspec": {
   "display_name": "dust3r",
   "language": "python",
   "name": "python3"
  },
  "language_info": {
   "codemirror_mode": {
    "name": "ipython",
    "version": 3
   },
   "file_extension": ".py",
   "mimetype": "text/x-python",
   "name": "python",
   "nbconvert_exporter": "python",
   "pygments_lexer": "ipython3",
   "version": "3.9.19"
  }
 },
 "nbformat": 4,
 "nbformat_minor": 2
}
