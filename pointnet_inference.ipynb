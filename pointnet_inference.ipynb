{
 "cells": [
  {
   "cell_type": "markdown",
   "metadata": {},
   "source": [
    "# BarrelNet Inference Notebook\n",
    "This Notebook will run the code to run an inference pipeline for the trained Model, given a single Barrel point cloud sample as input. "
   ]
  },
  {
   "cell_type": "code",
   "execution_count": null,
   "metadata": {},
   "outputs": [],
   "source": [
    "%load_ext autoreload\n",
    "%autoreload 2\n",
    "%matplotlib inline"
   ]
  },
  {
   "cell_type": "code",
   "execution_count": null,
   "metadata": {},
   "outputs": [],
   "source": [
    "import os\n",
    "from pathlib import Path\n",
    "\n",
    "import dill as pickle\n",
    "import numpy as np\n",
    "import torch.nn as nn\n",
    "import torch.utils.data\n",
    "import torch.nn.functional as F\n",
    "from tqdm import tqdm\n",
    "import matplotlib.pyplot as plt\n",
    "import torch\n",
    "import torch.optim as optim\n",
    "from torch.utils.tensorboard import SummaryWriter\n",
    "import trimesh\n",
    "import plotly.graph_objects as go\n",
    "import roma\n",
    "import visu3d as v3d\n",
    "import scipy.linalg\n",
    "\n",
    "from barrelnet.pointnet.data import generate_cylinder_pts, prepare_point_cloud, normalize_pc, CylinderData\n",
    "from mpl_toolkits.mplot3d import Axes3D\n",
    "from torch.utils.data import Dataset, DataLoader\n",
    "from barrelnet.pointnet.pointnet_utils import PointNetEncoder, feature_transform_reguliarzer\n",
    "from barrelnet.pointnet.barrelnet import BarrelNet\n",
    "from barrelnet.pointnet.data import CylinderDataOccluded, pts2inference_format\n",
    "from barrelnet.pointnet.occlusion import render_occluded_point_cloud\n",
    "from barrelnet.synthbarrel import random_cylinder_vol, random_cylinder_surf, monte_carlo_volume_ratio, generate_oriented_barrel, get_cyl_endpoints, get_cylinder_surf"
   ]
  },
  {
   "cell_type": "markdown",
   "metadata": {},
   "source": [
    "## Loading the occluded dataset (need to use Pointnet generation code)"
   ]
  },
  {
   "cell_type": "code",
   "execution_count": null,
   "metadata": {},
   "outputs": [],
   "source": [
    "CylinderDataOccluded(num_poses=10, dataset_savedir=Path(\"data/synthbarrel\"), noise_level=0.03)"
   ]
  },
  {
   "cell_type": "code",
   "execution_count": null,
   "metadata": {},
   "outputs": [],
   "source": [
    "with open(\"data/synthbarrel/data.pkl\", \"rb\") as f:\n",
    "    synthdict = pickle.load(f)\n",
    "print(synthdict.keys())"
   ]
  },
  {
   "cell_type": "code",
   "execution_count": null,
   "metadata": {},
   "outputs": [],
   "source": [
    "v3d.Point3d(p=synthdict[\"pts\"][5].numpy()).fig"
   ]
  },
  {
   "cell_type": "code",
   "execution_count": null,
   "metadata": {},
   "outputs": [],
   "source": [
    "def get_trial_var(trialresults, varname):\n",
    "    return [trial[varname] for trial in trialresults]"
   ]
  },
  {
   "cell_type": "code",
   "execution_count": null,
   "metadata": {},
   "outputs": [],
   "source": [
    "## Load Model \n",
    "model_path = \"checkpoints/pointnet_iter40.pth\"\n",
    "pointnet = BarrelNet(k=5, normal_channel=False).cuda()\n",
    "pointnet.load_state_dict(torch.load(model_path))\n",
    "pointnet.eval()"
   ]
  },
  {
   "cell_type": "code",
   "execution_count": null,
   "metadata": {},
   "outputs": [],
   "source": [
    "# cylnp = random_cylinder_surf([0, 0, 0], [0, 0, height_ratio], 1, 5000).astype(np.float32)\n",
    "# radius predicted: fraction of height\n",
    "# normalized space: height is fixed at 1\n",
    "height_ratio = 2.5  # height / radius ratio\n",
    "cylh = 1\n",
    "cylr = cylh / height_ratio\n",
    "ntrials = synthdict[\"radii\"].shape[0]\n",
    "\n",
    "trialresults = []\n",
    "for i in tqdm(range(ntrials)):\n",
    "# for i in tqdm(range()):\n",
    "    results = {}\n",
    "    cylnp = synthdict[\"pts\"][i].numpy()\n",
    "    axtruth = synthdict[\"axis_vectors\"][i]\n",
    "    rtruth = synthdict[\"radii\"][i]\n",
    "    # height in generated data is fixed at 1\n",
    "    yoffsettruth = synthdict[\"burial_offsets\"][i]\n",
    "    \n",
    "    results[\"axtruth\"] = axtruth\n",
    "    results[\"rtruth\"] = rtruth\n",
    "    results[\"yoffsettruth\"] = yoffsettruth\n",
    "    \n",
    "    cylnp = cylnp.astype(np.float32)\n",
    "    pts = torch.from_numpy(cylnp).cuda()\n",
    "    pts, scale = pts2inference_format(pts)\n",
    "    with torch.no_grad():\n",
    "        radius_pred, yshift_pred, axis_pred = pointnet(pts)\n",
    "        radius_pred = radius_pred.cpu().numpy()[0]\n",
    "        yshift_pred = yshift_pred.cpu().numpy()[0]\n",
    "        axis_pred = axis_pred.cpu().numpy()[0]\n",
    "    axis_pred = axis_pred / np.linalg.norm(axis_pred)\n",
    "    # scale predictions\n",
    "    h = scale\n",
    "    r = h * radius_pred\n",
    "    y = yshift_pred\n",
    "    \n",
    "    results[\"axpred\"] = axis_pred\n",
    "    results[\"rpred\"] = r\n",
    "    results[\"yshiftpred\"] = yshift_pred\n",
    "\n",
    "    # print(\"ahAHSFHJKSADHJKFSDHJKDFSHJKFSAD\")\n",
    "    # print(axis_pred, r, h, y)\n",
    "    # print(axtruth, rtruth, h, yoffsettruth / h)\n",
    "    \n",
    "    trialresults.append(results)\n",
    "\n",
    "    # print(\"TRUTH\")\n",
    "    # print(f\"axis: {cylax}\\nradius: {cylr}\\nheight: {cylh}\\nz-offset: {cylz}\")\n",
    "    # print(f\"burial percentage: {burialtruth}\")\n",
    "    # print(\"PREDICTED\")\n",
    "    # print(radius_pred, zshift_pred, axis_pred)\n",
    "    # print(f\"axis: {axis_pred}\\nradius: {r}\\nheight: {h}\\nz-offset: {z}\")\n",
    "    # print(f\"burial percentage: {burialpred}\")\n",
    "\n",
    "    # truthray = v3d.Ray(pos=[0,0,0], dir=cylax)\n",
    "    # predray = v3d.Ray(pos=[0,0,0], dir=axis_pred)\n",
    "    # v3d.make_fig([v3d.Point3d(p=cylnp), truthray, predray])"
   ]
  },
  {
   "cell_type": "code",
   "execution_count": null,
   "metadata": {},
   "outputs": [],
   "source": []
  },
  {
   "cell_type": "code",
   "execution_count": null,
   "metadata": {},
   "outputs": [],
   "source": [
    "synthdict[\"burial_offsets\"][i]"
   ]
  },
  {
   "cell_type": "markdown",
   "metadata": {},
   "source": [
    "## non-occluded cylinder metrics (outdated probably)"
   ]
  },
  {
   "cell_type": "code",
   "execution_count": null,
   "metadata": {},
   "outputs": [],
   "source": [
    "# cylnp = random_cylinder_surf([0, 0, 0], [0, 0, height_ratio], 1, 5000).astype(np.float32)\n",
    "cylh = 1\n",
    "cylr = cylh / height_ratio\n",
    "ntrials = 5000\n",
    "\n",
    "trialresults = []\n",
    "for i in tqdm(range(ntrials)):\n",
    "    results = {}\n",
    "    cylnp, _, cylax, cylz = generate_oriented_barrel(cylr, cylh, 5000, sigma=0.05, zlims=[-0.3, 0.3])\n",
    "    x1truth, x2truth = get_cyl_endpoints(cylax, height_ratio, cylz)\n",
    "    burialtruth = monte_carlo_volume_ratio(10000, x1truth, x2truth, cylr, 0, 0, 1, 0)\n",
    "    results[\"axtruth\"] = cylax\n",
    "    results[\"pc\"] = cylnp\n",
    "    results[\"ztruth\"] = cylz\n",
    "    results[\"rtruth\"] = cylr\n",
    "    results[\"x1truth\"] = x1truth\n",
    "    results[\"x2truth\"] = x2truth\n",
    "    results[\"burialtruth\"] = burialtruth\n",
    "\n",
    "    cylnp = cylnp.astype(np.float32)\n",
    "    pts = torch.from_numpy(cylnp).cuda()\n",
    "    pts, scale = pts2inference_format(pts)\n",
    "    with torch.no_grad():\n",
    "        radius_pred, zshift_pred, axis_pred = pointnet(pts)\n",
    "        radius_pred = radius_pred.cpu().numpy()[0]\n",
    "        zshift_pred = zshift_pred.cpu().numpy()[0]\n",
    "        axis_pred = axis_pred.cpu().numpy()[0]\n",
    "    axis_pred = axis_pred / np.linalg.norm(axis_pred)\n",
    "    results[\"axpred\"] = axis_pred\n",
    "    # scale predictions\n",
    "    r = radius_pred * scale\n",
    "    h = r * height_ratio\n",
    "    z = zshift_pred * h\n",
    "    results[\"zpred\"] = z\n",
    "    results[\"rpred\"] = r\n",
    "    x1, x2 = get_cyl_endpoints(axis_pred, h, z)\n",
    "    results[\"x1pred\"] = x1\n",
    "    results[\"x2pred\"] = x2\n",
    "\n",
    "    burialpred = monte_carlo_volume_ratio(10000, x1, x2, r, 0, 0, 1, 0)\n",
    "    results[\"burialpred\"] = burialpred\n",
    "    results[\"cos_sim\"] = np.abs(cylax @ axis_pred)\n",
    "    results[\"burialerr\"] = np.abs(burialtruth - burialpred)\n",
    "    \n",
    "    trialresults.append(results)\n",
    "\n",
    "    # print(\"TRUTH\")\n",
    "    # print(f\"axis: {cylax}\\nradius: {cylr}\\nheight: {cylh}\\nz-offset: {cylz}\")\n",
    "    # print(f\"burial percentage: {burialtruth}\")\n",
    "    # print(\"PREDICTED\")\n",
    "    # print(radius_pred, zshift_pred, axis_pred)\n",
    "    # print(f\"axis: {axis_pred}\\nradius: {r}\\nheight: {h}\\nz-offset: {z}\")\n",
    "    # print(f\"burial percentage: {burialpred}\")\n",
    "\n",
    "    # truthray = v3d.Ray(pos=[0,0,0], dir=cylax)\n",
    "    # predray = v3d.Ray(pos=[0,0,0], dir=axis_pred)\n",
    "    # v3d.make_fig([v3d.Point3d(p=cylnp), truthray, predray])"
   ]
  },
  {
   "cell_type": "code",
   "execution_count": null,
   "metadata": {},
   "outputs": [],
   "source": [
    "cos_sims = get_trial_var(trialresults, \"cos_sim\")\n",
    "burial_errs = get_trial_var(trialresults, \"burialerr\")\n",
    "print(np.mean(cos_sims), np.std(cos_sims))\n",
    "print(np.mean(burial_errs), np.std(burial_errs))"
   ]
  },
  {
   "cell_type": "code",
   "execution_count": null,
   "metadata": {},
   "outputs": [],
   "source": [
    "plt.hist(cos_sims)"
   ]
  },
  {
   "cell_type": "code",
   "execution_count": null,
   "metadata": {},
   "outputs": [],
   "source": [
    "np.sum(np.array(cos_sims) < 0.9)"
   ]
  },
  {
   "cell_type": "code",
   "execution_count": null,
   "metadata": {},
   "outputs": [],
   "source": [
    "plt.hist(get_trial_var(trialresults, \"burialtruth\"))"
   ]
  },
  {
   "cell_type": "code",
   "execution_count": null,
   "metadata": {},
   "outputs": [],
   "source": [
    "plt.hist(burial_errs)"
   ]
  },
  {
   "cell_type": "code",
   "execution_count": null,
   "metadata": {},
   "outputs": [],
   "source": [
    "ztruths = get_trial_var(trialresults, \"ztruth\")\n",
    "zpreds = get_trial_var(trialresults, \"zpred\")\n",
    "zerrs = np.abs(np.array(ztruths) - zpreds)\n",
    "plt.hist(zerrs)"
   ]
  },
  {
   "cell_type": "code",
   "execution_count": null,
   "metadata": {},
   "outputs": [],
   "source": [
    "rtruths = get_trial_var(trialresults, \"rtruth\")\n",
    "rpreds = get_trial_var(trialresults, \"rpred\")\n",
    "rerrs = np.abs(np.array(rtruths) - rpreds)\n",
    "plt.hist(rerrs)"
   ]
  },
  {
   "cell_type": "code",
   "execution_count": null,
   "metadata": {},
   "outputs": [],
   "source": [
    "print(np.mean(zerrs), np.std(zerrs))\n",
    "print(np.mean(rerrs), np.std(rerrs))"
   ]
  },
  {
   "cell_type": "code",
   "execution_count": null,
   "metadata": {},
   "outputs": [],
   "source": [
    "axtruths = get_trial_var(trialresults, \"axtruth\")\n",
    "axpreds = get_trial_var(trialresults, \"axpred\")\n",
    "pcs = get_trial_var(trialresults, \"pc\")\n",
    "worstidx = np.argmin(cos_sims)\n",
    "# worstidx = 12\n",
    "truthray = v3d.Ray(pos=[0,0,0], dir=axtruths[worstidx])\n",
    "predray = v3d.Ray(pos=[0,0,0], dir=axpreds[worstidx])\n",
    "v3d.make_fig([v3d.Point3d(p=pcs[worstidx]), truthray, predray])"
   ]
  },
  {
   "cell_type": "code",
   "execution_count": null,
   "metadata": {},
   "outputs": [],
   "source": [
    "worstidx"
   ]
  },
  {
   "cell_type": "code",
   "execution_count": null,
   "metadata": {},
   "outputs": [],
   "source": [
    "trialresults[worstidx]"
   ]
  },
  {
   "cell_type": "code",
   "execution_count": null,
   "metadata": {},
   "outputs": [],
   "source": [
    "trialres = trialresults[3119]\n",
    "x, y, z = get_cylinder_surf(trialres[\"x1pred\"], trialres[\"x2pred\"], trialres[\"rpred\"])\n",
    "centroid_truth = (trialres[\"x1truth\"] - trialres[\"x2truth\"]) / 2 + trialres[\"x2truth\"]\n",
    "centroid_pred = (trialres[\"x1pred\"] - trialres[\"x2pred\"]) / 2 + trialres[\"x2pred\"]\n",
    "truthray = v3d.Ray(pos=centroid_truth, dir=trialres[\"axtruth\"])\n",
    "predray = v3d.Ray(pos=centroid_pred, dir=trialres[\"axpred\"])\n",
    "fig = v3d.make_fig([v3d.Point3d(p=trialres[\"pc\"][::5]), truthray, predray])\n",
    "cyl1 = go.Surface(\n",
    "    x=x, y=y, z=z,\n",
    "    #  colorscale = colorscale,\n",
    "    #  showscale=False,\n",
    "    opacity=0.2)\n",
    "fig.add_trace(cyl1)\n",
    "# fig = go.Figure(data=[cyl1])\n",
    "fig.show()"
   ]
  }
 ],
 "metadata": {
  "kernelspec": {
   "display_name": "dust3r",
   "language": "python",
   "name": "python3"
  },
  "language_info": {
   "codemirror_mode": {
    "name": "ipython",
    "version": 3
   },
   "file_extension": ".py",
   "mimetype": "text/x-python",
   "name": "python",
   "nbconvert_exporter": "python",
   "pygments_lexer": "ipython3",
   "version": "3.9.19"
  }
 },
 "nbformat": 4,
 "nbformat_minor": 2
}
