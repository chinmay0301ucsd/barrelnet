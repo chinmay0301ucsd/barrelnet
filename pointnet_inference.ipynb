{
 "cells": [
  {
   "cell_type": "markdown",
   "metadata": {},
   "source": [
    "# BarrelNet Inference Notebook\n",
    "This Notebook will run the code to run an inference pipeline for the trained Model, given a single Barrel point cloud sample as input. "
   ]
  },
  {
   "cell_type": "code",
   "execution_count": null,
   "metadata": {},
   "outputs": [],
   "source": [
    "%load_ext autoreload\n",
    "%autoreload 2\n",
    "%matplotlib inline"
   ]
  },
  {
   "cell_type": "code",
   "execution_count": null,
   "metadata": {},
   "outputs": [],
   "source": [
    "import os\n",
    "from pathlib import Path\n",
    "\n",
    "import dill as pickle\n",
    "import numpy as np\n",
    "import torch.nn as nn\n",
    "import torch.utils.data\n",
    "import torch.nn.functional as F\n",
    "from tqdm import tqdm\n",
    "import matplotlib.pyplot as plt\n",
    "import torch\n",
    "import torch.optim as optim\n",
    "from torch.utils.tensorboard import SummaryWriter\n",
    "import trimesh\n",
    "import plotly.graph_objects as go\n",
    "import roma\n",
    "import visu3d as v3d\n",
    "import scipy.linalg\n",
    "\n",
    "from barrelnet.pointnet.data import generate_cylinder_pts, prepare_point_cloud, normalize_pc, CylinderData\n",
    "from mpl_toolkits.mplot3d import Axes3D\n",
    "from torch.utils.data import Dataset, DataLoader\n",
    "from barrelnet.pointnet.pointnet_utils import PointNetEncoder, feature_transform_reguliarzer\n",
    "from barrelnet.pointnet.barrelnet import BarrelNet\n",
    "from barrelnet.pointnet.data import CylinderDataOccluded, pts2inference_format\n",
    "from barrelnet.pointnet.occlusion import render_occluded_point_cloud\n",
    "from barrelnet.synthbarrel import random_cylinder_vol, random_cylinder_surf, monte_carlo_volume_ratio, generate_oriented_barrel, get_cyl_endpoints, get_cylinder_surf"
   ]
  },
  {
   "cell_type": "code",
   "execution_count": null,
   "metadata": {},
   "outputs": [],
   "source": [
    "def get_trial_var(trialresults, varname):\n",
    "    return [trial[varname] for trial in trialresults]"
   ]
  },
  {
   "cell_type": "markdown",
   "metadata": {},
   "source": [
    "## Loading the occluded dataset (need to use Pointnet generation code)"
   ]
  },
  {
   "cell_type": "code",
   "execution_count": null,
   "metadata": {},
   "outputs": [],
   "source": [
    "with open(\"data/synthbarrel/testbarrels_1000_fixed.pkl\", \"rb\") as f:\n",
    "    synthdict = pickle.load(f)\n",
    "print(synthdict.keys())"
   ]
  },
  {
   "cell_type": "code",
   "execution_count": null,
   "metadata": {},
   "outputs": [],
   "source": [
    "v3d.Point3d(p=synthdict[\"pts\"][5].numpy()).fig"
   ]
  },
  {
   "cell_type": "code",
   "execution_count": null,
   "metadata": {},
   "outputs": [],
   "source": [
    "## Load Model \n",
    "model_path = \"checkpoints/pointnet_iter80_fixed.pth\"\n",
    "pointnet = BarrelNet(k=5, normal_channel=False)\n",
    "pointnet.load_state_dict(torch.load(model_path))\n",
    "pointnet.cuda().eval()"
   ]
  },
  {
   "cell_type": "code",
   "execution_count": null,
   "metadata": {},
   "outputs": [],
   "source": [
    "# cylnp = random_cylinder_surf([0, 0, 0], [0, 0, height_ratio], 1, 5000).astype(np.float32)\n",
    "# radius predicted: fraction of height\n",
    "# normalized space: height is fixed at 1\n",
    "# height_ratio = 2.5  # height / radius ratio\n",
    "cylh = 1\n",
    "ntrials = synthdict[\"radii\"].shape[0]\n",
    "\n",
    "trialresults = []\n",
    "for i in tqdm(range(ntrials)):\n",
    "# for i in tqdm(range()):\n",
    "    results = {}\n",
    "    cylnp = synthdict[\"pts\"][i].numpy()\n",
    "    axtruth = synthdict[\"axis_vectors\"][i]\n",
    "    rtruth = synthdict[\"radii\"][i].numpy()\n",
    "    # height in generated data is fixed at 1\n",
    "    yoffsettruth = synthdict[\"burial_offsets\"][i]\n",
    "    x1truth, x2truth  = get_cyl_endpoints(axtruth, 1, yoffsettruth, axidx=1)\n",
    "    \n",
    "    results[\"axtruth\"] = axtruth\n",
    "    results[\"rtruth\"] = rtruth\n",
    "    results[\"yoffsettruth\"] = yoffsettruth\n",
    "    results[\"burialtruth\"] = monte_carlo_volume_ratio(10000, x1truth, x2truth, rtruth, 0, 1, 0, 0)\n",
    "    \n",
    "    cylnp = cylnp.astype(np.float32)\n",
    "    pts = torch.from_numpy(cylnp).cuda()\n",
    "    pts, scale = pts2inference_format(pts)\n",
    "    with torch.no_grad():\n",
    "        radius_pred, yshift_pred, axis_pred = pointnet(pts)\n",
    "        radius_pred = radius_pred.cpu().numpy()[0]\n",
    "        yshift_pred = yshift_pred.cpu().numpy()[0]\n",
    "        axis_pred = axis_pred.cpu().numpy()[0]\n",
    "    axis_pred = axis_pred / np.linalg.norm(axis_pred)\n",
    "    # scale predictions\n",
    "    h = scale\n",
    "    r = h * radius_pred\n",
    "    y = yshift_pred\n",
    "    x1pred, x2pred  = get_cyl_endpoints(axis_pred, h, y, axidx=1)\n",
    "    \n",
    "    results[\"axpred\"] = axis_pred\n",
    "    results[\"rpred\"] = r\n",
    "    results[\"yshiftpred\"] = yshift_pred\n",
    "    results[\"burialpred\"] = monte_carlo_volume_ratio(10000, x1pred, x2pred, r, 0, 1, 0, 0)\n",
    "\n",
    "    # print(\"ahAHSFHJKSADHJKFSDHJKDFSHJKFSAD\")\n",
    "    # print(axis_pred, r, h, y)\n",
    "    # print(axtruth, rtruth, h, yoffsettruth / h)\n",
    "    \n",
    "    trialresults.append(results)\n",
    "\n",
    "    # print(\"TRUTH\")\n",
    "    # print(f\"axis: {cylax}\\nradius: {cylr}\\nheight: {cylh}\\nz-offset: {cylz}\")\n",
    "    # print(f\"burial percentage: {burialtruth}\")\n",
    "    # print(\"PREDICTED\")\n",
    "    # print(radius_pred, zshift_pred, axis_pred)\n",
    "    # print(f\"axis: {axis_pred}\\nradius: {r}\\nheight: {h}\\nz-offset: {z}\")\n",
    "    # print(f\"burial percentage: {burialpred}\")\n",
    "\n",
    "    # truthray = v3d.Ray(pos=[0,0,0], dir=cylax)\n",
    "    # predray = v3d.Ray(pos=[0,0,0], dir=axis_pred)\n",
    "    # v3d.make_fig([v3d.Point3d(p=cylnp), truthray, predray])\n",
    "with open(\"results/pointnet_synth_results.pkl\", \"wb\") as f:\n",
    "    pickle.dump(trialresults, f)"
   ]
  },
  {
   "cell_type": "code",
   "execution_count": null,
   "metadata": {},
   "outputs": [],
   "source": [
    "with open(\"results/pointnet_synth_results.pkl\", \"rb\") as f:\n",
    "    trialresults = pickle.load(f)"
   ]
  },
  {
   "cell_type": "code",
   "execution_count": null,
   "metadata": {},
   "outputs": [],
   "source": [
    "i = 15255\n",
    "trialres = trialresults[i]\n",
    "x1truth, x2truth  = get_cyl_endpoints(trialres[\"axtruth\"], 1, trialres[\"yoffsettruth\"], axidx=1)\n",
    "x1pred, x2pred  = get_cyl_endpoints(trialres[\"axpred\"], 1, trialres[\"yshiftpred\"], axidx=1)\n",
    "randptsvol = random_cylinder_vol(x1truth, x2truth, trialres[\"rtruth\"], 10000)\n",
    "centroid_truth = (x1truth + x2truth) / 2\n",
    "centroid_pred = (x1pred + x2pred) / 2\n",
    "truthray = v3d.Ray(pos=centroid_truth, dir=trialres[\"axtruth\"])\n",
    "predray = v3d.Ray(pos=centroid_pred, dir=trialres[\"axpred\"])\n",
    "fig = v3d.make_fig([v3d.Point3d(p=synthdict[\"pts\"][i].numpy()), truthray, predray])\n",
    "x, y, z = get_cylinder_surf(x1truth, x2truth, trialres[\"rtruth\"])\n",
    "cylsurftruth = go.Surface(\n",
    "    x=x, y=y, z=z,\n",
    "    colorscale=\"purples\",\n",
    "    #  showscale=False,\n",
    "    opacity=0.2)\n",
    "fig.add_trace(cylsurftruth)\n",
    "x, y, z = get_cylinder_surf(x1pred, x2pred, trialres[\"rpred\"])\n",
    "cylsurfpred = go.Surface(\n",
    "    x=x, y=y, z=z,\n",
    "    colorscale=\"oranges\",\n",
    "    #  showscale=False,\n",
    "    opacity=0.2)\n",
    "fig.add_trace(cylsurfpred)\n",
    "fig.show()\n",
    "print(monte_carlo_volume_ratio(10000, x1truth, x2truth, trialres[\"rtruth\"], 0, 1, 0, 0))\n",
    "print(monte_carlo_volume_ratio(10000, x1pred, x2pred, trialres[\"rpred\"], 0, 1, 0, 0))"
   ]
  },
  {
   "cell_type": "code",
   "execution_count": null,
   "metadata": {},
   "outputs": [],
   "source": [
    "cossims = np.abs(np.sum(np.array(get_trial_var(trialresults, \"axtruth\")) * np.array(get_trial_var(trialresults, \"axpred\")), axis=1))\n",
    "plt.hist(cossims)\n",
    "np.mean(cossims)"
   ]
  },
  {
   "cell_type": "code",
   "execution_count": null,
   "metadata": {},
   "outputs": [],
   "source": [
    "np.argmin(cossims)"
   ]
  },
  {
   "cell_type": "code",
   "execution_count": null,
   "metadata": {},
   "outputs": [],
   "source": [
    "np.sum(cossims < 0.9)"
   ]
  },
  {
   "cell_type": "code",
   "execution_count": null,
   "metadata": {},
   "outputs": [],
   "source": [
    "burialerrs = np.abs(np.array(get_trial_var(trialresults, \"burialtruth\")) - np.array(get_trial_var(trialresults, \"burialpred\")))\n",
    "plt.hist(burialerrs)\n",
    "np.mean(burialerrs)"
   ]
  },
  {
   "cell_type": "code",
   "execution_count": null,
   "metadata": {},
   "outputs": [],
   "source": [
    "yerrs = np.abs(np.array(get_trial_var(trialresults, \"yoffsettruth\")) - np.array(get_trial_var(trialresults, \"yshiftpred\")))\n",
    "plt.hist(yerrs)\n",
    "np.mean(yerrs)"
   ]
  },
  {
   "cell_type": "code",
   "execution_count": null,
   "metadata": {},
   "outputs": [],
   "source": [
    "rerrs = np.abs(np.array(get_trial_var(trialresults, \"rtruth\")) - np.array(get_trial_var(trialresults, \"rpred\")))\n",
    "plt.hist(rerrs)\n",
    "np.mean(rerrs)"
   ]
  },
  {
   "cell_type": "markdown",
   "metadata": {},
   "source": [
    "## test icp"
   ]
  },
  {
   "cell_type": "code",
   "execution_count": null,
   "metadata": {},
   "outputs": [],
   "source": [
    "from sklearn.neighbors import KDTree\n",
    "\n",
    "def icp_translate(source_pc, target_pc, max_iters=20, tol=1e-3, verbose=False, ntheta=3, nphi=3):\n",
    "    \"\"\"source_pc assumed to be smaller than target\"\"\"\n",
    "    src_mean = np.mean(source_pc, axis=0)\n",
    "    targ_mean = np.mean(target_pc, axis=0)\n",
    "    scale = np.max(np.linalg.norm(target_pc - targ_mean, axis=1))\n",
    "    src_cent = source_pc - src_mean\n",
    "    targ_cent = target_pc - targ_mean\n",
    "\n",
    "    src_kd = KDTree(source_pc)\n",
    "    target_kd = KDTree(target_pc)\n",
    "    thetas = np.linspace(0, 2 * np.pi, ntheta + 1)[:-1]\n",
    "    phis = np.linspace(0, np.pi, nphi + 2)[1:-1]\n",
    "    alltheta, allphi = np.meshgrid(thetas, phis)\n",
    "    alltheta = alltheta.reshape(-1)\n",
    "    allphi = allphi.reshape(-1)\n",
    "    offset_choices = scale * np.array([np.sin(allphi) * np.cos(alltheta), np.sin(allphi) * np.sin(alltheta), np.cos(allphi)]).T\n",
    "    alltranslations = np.zeros((len(alltheta), 3))\n",
    "    allmeandists = np.zeros(len(alltheta))\n",
    "    for j, offset in enumerate(offset_choices):\n",
    "        # p = targ_mean - src_mean\n",
    "        p = (targ_mean + offset) - src_mean\n",
    "        prevp = p\n",
    "        prevdist = np.inf\n",
    "        K = max_iters\n",
    "        for i in range(K):\n",
    "            dists, close_idxs = target_kd.query(source_pc + p)\n",
    "            meandist = np.mean(dists)\n",
    "            targ_mean_filt = np.mean(target_pc[close_idxs], axis=0)\n",
    "            p = targ_mean_filt - src_mean\n",
    "            if np.abs(prevdist - meandist) < tol:\n",
    "                if verbose:\n",
    "                    print(f\"converged at iter {i}\")\n",
    "                break\n",
    "            prevp = p\n",
    "            prevdist = meandist\n",
    "            if i == K - 1:\n",
    "                if verbose:\n",
    "                    print(f\"max iters {K} reached before tolerance {tol}\")\n",
    "        allmeandists[j] = np.mean(meandist)\n",
    "        alltranslations[j, :] = p\n",
    "    bestidx = np.argmin(allmeandists)\n",
    "    pose = np.eye(4)\n",
    "    pose[:3, 3] = alltranslations[bestidx]\n",
    "    return pose"
   ]
  },
  {
   "cell_type": "code",
   "execution_count": null,
   "metadata": {},
   "outputs": [],
   "source": [
    "i = 131\n",
    "cylnp = synthdict[\"pts\"][i].numpy().astype(np.float32)\n",
    "np.random.seed(5)\n",
    "cylnp[:, :] += np.random.uniform(-2, 2, 3)\n",
    "cylpc = v3d.Point3d(p=cylnp)\n",
    "trialres = trialresults[i]\n",
    "x1truth, x2truth  = get_cyl_endpoints(trialres[\"axtruth\"], 1, trialres[\"yoffsettruth\"], axidx=1)\n",
    "x1pred, x2pred  = get_cyl_endpoints(trialres[\"axpred\"], 1, trialres[\"yshiftpred\"], axidx=1)\n",
    "x, y, z = get_cylinder_surf(x1pred, x2pred, trialres[\"rpred\"])\n",
    "origcylsurfpred = go.Surface(\n",
    "    x=x, y=y, z=z,\n",
    "    colorscale=\"purples\",\n",
    "    opacity=0.2)\n",
    "randptssurfpred = random_cylinder_surf(x1truth, x2truth, trialres[\"rtruth\"], 10000)\n",
    "T = icp_translate(cylnp, randptssurfpred, max_iters=10, verbose=False, ntheta=3, nphi=3)\n",
    "print(T)\n",
    "x1pred -= T[:3, 3]\n",
    "x2pred -= T[:3, 3]\n",
    "centroid_pred = (x1pred + x2pred) / 2\n",
    "truthray = v3d.Ray(pos=centroid_truth, dir=trialres[\"axtruth\"])\n",
    "predray = v3d.Ray(pos=centroid_pred, dir=trialres[\"axpred\"])\n",
    "fig = v3d.make_fig([cylpc, predray])\n",
    "x, y, z = get_cylinder_surf(x1pred, x2pred, trialres[\"rpred\"])\n",
    "cylsurfpred = go.Surface(\n",
    "    x=x, y=y, z=z,\n",
    "    colorscale=\"oranges\",\n",
    "    opacity=0.2)\n",
    "fig.add_trace(cylsurfpred)\n",
    "fig.add_trace(origcylsurfpred)\n",
    "fig.show()\n",
    "print(monte_carlo_volume_ratio(10000, x1truth, x2truth, trialres[\"rtruth\"], 0, 1, 0, 0))\n",
    "print(monte_carlo_volume_ratio(10000, x1pred, x2pred, trialres[\"rpred\"], 0, 1, 0, 0))"
   ]
  },
  {
   "cell_type": "markdown",
   "metadata": {},
   "source": [
    "## non-occluded cylinder metrics (outdated probably)"
   ]
  },
  {
   "cell_type": "code",
   "execution_count": null,
   "metadata": {},
   "outputs": [],
   "source": [
    "# cylnp = random_cylinder_surf([0, 0, 0], [0, 0, height_ratio], 1, 5000).astype(np.float32)\n",
    "cylh = 1\n",
    "cylr = cylh / height_ratio\n",
    "ntrials = 5000\n",
    "\n",
    "trialresults = []\n",
    "for i in tqdm(range(ntrials)):\n",
    "    results = {}\n",
    "    cylnp, _, cylax, cylz = generate_oriented_barrel(cylr, cylh, 5000, sigma=0.05, zlims=[-0.3, 0.3])\n",
    "    x1truth, x2truth = get_cyl_endpoints(cylax, height_ratio, cylz)\n",
    "    burialtruth = monte_carlo_volume_ratio(10000, x1truth, x2truth, cylr, 0, 0, 1, 0)\n",
    "    results[\"axtruth\"] = cylax\n",
    "    results[\"pc\"] = cylnp\n",
    "    results[\"ztruth\"] = cylz\n",
    "    results[\"rtruth\"] = cylr\n",
    "    results[\"x1truth\"] = x1truth\n",
    "    results[\"x2truth\"] = x2truth\n",
    "    results[\"burialtruth\"] = burialtruth\n",
    "\n",
    "    cylnp = cylnp.astype(np.float32)\n",
    "    pts = torch.from_numpy(cylnp).cuda()\n",
    "    pts, scale = pts2inference_format(pts)\n",
    "    with torch.no_grad():\n",
    "        radius_pred, zshift_pred, axis_pred = pointnet(pts)\n",
    "        radius_pred = radius_pred.cpu().numpy()[0]\n",
    "        zshift_pred = zshift_pred.cpu().numpy()[0]\n",
    "        axis_pred = axis_pred.cpu().numpy()[0]\n",
    "    axis_pred = axis_pred / np.linalg.norm(axis_pred)\n",
    "    results[\"axpred\"] = axis_pred\n",
    "    # scale predictions\n",
    "    r = radius_pred * scale\n",
    "    h = r * height_ratio\n",
    "    z = zshift_pred * h\n",
    "    results[\"zpred\"] = z\n",
    "    results[\"rpred\"] = r\n",
    "    x1, x2 = get_cyl_endpoints(axis_pred, h, z)\n",
    "    results[\"x1pred\"] = x1\n",
    "    results[\"x2pred\"] = x2\n",
    "\n",
    "    burialpred = monte_carlo_volume_ratio(10000, x1, x2, r, 0, 0, 1, 0)\n",
    "    results[\"burialpred\"] = burialpred\n",
    "    results[\"cos_sim\"] = np.abs(cylax @ axis_pred)\n",
    "    results[\"burialerr\"] = np.abs(burialtruth - burialpred)\n",
    "    \n",
    "    trialresults.append(results)\n",
    "\n",
    "    # print(\"TRUTH\")\n",
    "    # print(f\"axis: {cylax}\\nradius: {cylr}\\nheight: {cylh}\\nz-offset: {cylz}\")\n",
    "    # print(f\"burial percentage: {burialtruth}\")\n",
    "    # print(\"PREDICTED\")\n",
    "    # print(radius_pred, zshift_pred, axis_pred)\n",
    "    # print(f\"axis: {axis_pred}\\nradius: {r}\\nheight: {h}\\nz-offset: {z}\")\n",
    "    # print(f\"burial percentage: {burialpred}\")\n",
    "\n",
    "    # truthray = v3d.Ray(pos=[0,0,0], dir=cylax)\n",
    "    # predray = v3d.Ray(pos=[0,0,0], dir=axis_pred)\n",
    "    # v3d.make_fig([v3d.Point3d(p=cylnp), truthray, predray])"
   ]
  },
  {
   "cell_type": "code",
   "execution_count": null,
   "metadata": {},
   "outputs": [],
   "source": [
    "cos_sims = get_trial_var(trialresults, \"cos_sim\")\n",
    "burial_errs = get_trial_var(trialresults, \"burialerr\")\n",
    "print(np.mean(cos_sims), np.std(cos_sims))\n",
    "print(np.mean(burial_errs), np.std(burial_errs))"
   ]
  },
  {
   "cell_type": "code",
   "execution_count": null,
   "metadata": {},
   "outputs": [],
   "source": [
    "plt.hist(cos_sims)"
   ]
  },
  {
   "cell_type": "code",
   "execution_count": null,
   "metadata": {},
   "outputs": [],
   "source": [
    "np.sum(np.array(cos_sims) < 0.9)"
   ]
  },
  {
   "cell_type": "code",
   "execution_count": null,
   "metadata": {},
   "outputs": [],
   "source": [
    "plt.hist(get_trial_var(trialresults, \"burialtruth\"))"
   ]
  },
  {
   "cell_type": "code",
   "execution_count": null,
   "metadata": {},
   "outputs": [],
   "source": [
    "plt.hist(burial_errs)"
   ]
  },
  {
   "cell_type": "code",
   "execution_count": null,
   "metadata": {},
   "outputs": [],
   "source": [
    "ztruths = get_trial_var(trialresults, \"ztruth\")\n",
    "zpreds = get_trial_var(trialresults, \"zpred\")\n",
    "zerrs = np.abs(np.array(ztruths) - zpreds)\n",
    "plt.hist(zerrs)"
   ]
  },
  {
   "cell_type": "code",
   "execution_count": null,
   "metadata": {},
   "outputs": [],
   "source": [
    "rtruths = get_trial_var(trialresults, \"rtruth\")\n",
    "rpreds = get_trial_var(trialresults, \"rpred\")\n",
    "rerrs = np.abs(np.array(rtruths) - rpreds)\n",
    "plt.hist(rerrs)"
   ]
  },
  {
   "cell_type": "code",
   "execution_count": null,
   "metadata": {},
   "outputs": [],
   "source": [
    "print(np.mean(zerrs), np.std(zerrs))\n",
    "print(np.mean(rerrs), np.std(rerrs))"
   ]
  },
  {
   "cell_type": "code",
   "execution_count": null,
   "metadata": {},
   "outputs": [],
   "source": [
    "axtruths = get_trial_var(trialresults, \"axtruth\")\n",
    "axpreds = get_trial_var(trialresults, \"axpred\")\n",
    "pcs = get_trial_var(trialresults, \"pc\")\n",
    "worstidx = np.argmin(cos_sims)\n",
    "# worstidx = 12\n",
    "truthray = v3d.Ray(pos=[0,0,0], dir=axtruths[worstidx])\n",
    "predray = v3d.Ray(pos=[0,0,0], dir=axpreds[worstidx])\n",
    "v3d.make_fig([v3d.Point3d(p=pcs[worstidx]), truthray, predray])"
   ]
  },
  {
   "cell_type": "code",
   "execution_count": null,
   "metadata": {},
   "outputs": [],
   "source": [
    "worstidx"
   ]
  },
  {
   "cell_type": "code",
   "execution_count": null,
   "metadata": {},
   "outputs": [],
   "source": [
    "trialresults[worstidx]"
   ]
  },
  {
   "cell_type": "code",
   "execution_count": null,
   "metadata": {},
   "outputs": [],
   "source": [
    "trialres = trialresults[3119]\n",
    "x, y, z = get_cylinder_surf(trialres[\"x1pred\"], trialres[\"x2pred\"], trialres[\"rpred\"])\n",
    "centroid_truth = (trialres[\"x1truth\"] - trialres[\"x2truth\"]) / 2 + trialres[\"x2truth\"]\n",
    "centroid_pred = (trialres[\"x1pred\"] - trialres[\"x2pred\"]) / 2 + trialres[\"x2pred\"]\n",
    "truthray = v3d.Ray(pos=centroid_truth, dir=trialres[\"axtruth\"])\n",
    "predray = v3d.Ray(pos=centroid_pred, dir=trialres[\"axpred\"])\n",
    "fig = v3d.make_fig([v3d.Point3d(p=trialres[\"pc\"][::5]), truthray, predray])\n",
    "cyl1 = go.Surface(\n",
    "    x=x, y=y, z=z,\n",
    "    #  colorscale = colorscale,\n",
    "    #  showscale=False,\n",
    "    opacity=0.2)\n",
    "fig.add_trace(cyl1)\n",
    "# fig = go.Figure(data=[cyl1])\n",
    "fig.show()"
   ]
  }
 ],
 "metadata": {
  "kernelspec": {
   "display_name": "dust3r",
   "language": "python",
   "name": "python3"
  },
  "language_info": {
   "codemirror_mode": {
    "name": "ipython",
    "version": 3
   },
   "file_extension": ".py",
   "mimetype": "text/x-python",
   "name": "python",
   "nbconvert_exporter": "python",
   "pygments_lexer": "ipython3",
   "version": "3.9.19"
  }
 },
 "nbformat": 4,
 "nbformat_minor": 2
}
