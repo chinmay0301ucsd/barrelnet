{
 "cells": [
  {
   "cell_type": "code",
   "execution_count": null,
   "metadata": {},
   "outputs": [],
   "source": [
    "%load_ext autoreload\n",
    "%autoreload 2\n",
    "%matplotlib inline"
   ]
  },
  {
   "cell_type": "code",
   "execution_count": null,
   "metadata": {},
   "outputs": [],
   "source": [
    "import os\n",
    "from pathlib import Path\n",
    "import sys\n",
    "\n",
    "import cv2\n",
    "import dill as pickle\n",
    "import matplotlib.pyplot as plt\n",
    "import numpy as np\n",
    "import open3d as o3d\n",
    "from PIL import Image\n",
    "import plotly.graph_objects as go\n",
    "import pyransac3d as pyrsc\n",
    "from tqdm import tqdm\n",
    "import scipy.io\n",
    "from scipy.spatial import KDTree\n",
    "import torch\n",
    "import transforms3d as t3d\n",
    "import visu3d as v3d\n",
    "\n",
    "from barrelnet.pointnet.pointnet_utils import PointNetEncoder, feature_transform_reguliarzer\n",
    "from barrelnet.pointnet.barrelnet import BarrelNet\n",
    "from barrelnet.pointnet.data import pts2inference_format\n",
    "from barrelnet.dust3r_utils import save_dust3r_outs, read_dust3r, resize_to_dust3r\n",
    "from barrelnet.langsam_utils import display_image_with_masks, display_image_with_boxes\n",
    "from barrelnet.utils import segment_pc_from_mask, get_local_plane_mask, rotate_pts_to_ax, get_surface_line_traces, get_ray_trace, icp_translate\n",
    "from barrelnet.synthbarrel import get_cyl_endpoints, get_cylinder_surf, monte_carlo_volume_ratio, random_cylinder_surf"
   ]
  },
  {
   "cell_type": "code",
   "execution_count": null,
   "metadata": {},
   "outputs": [],
   "source": [
    "# reconstr_dir = Path(\"results/barrel4-2sec-first5-reconstr\")\n",
    "# reconstr_dir = Path(\"results/barrelddt1-reconstr\")\n",
    "# reconstr_dir = Path(\"results/dive8-barrel-15-04-2sec-middle-reconstr\")\n",
    "reconstr_dir = Path(\"results/barrel2-5sec-contrast-reconstr\")\n",
    "ptspath = reconstr_dir / \"rotatedpts.pickle\"\n",
    "matcylpath = reconstr_dir / \"matcyl.mat\"\n",
    "\n",
    "if not ptspath.exists() or not matcylpath.exists():\n",
    "    raise FileNotFoundError(\"sad :(\")\n",
    "\n",
    "with open(ptspath, \"rb\") as f:\n",
    "    rotpcdict = pickle.load(f)\n",
    "matcylparams = scipy.io.loadmat(matcylpath)[\"cylparams\"][0]\n",
    "\n",
    "rotatedpc = v3d.Point3d(p=rotpcdict[\"p\"], rgb=rotpcdict[\"rgb\"])\n",
    "barrelyes = rotpcdict[\"isbarrel\"]\n",
    "x1 = matcylparams[0:3]\n",
    "x2 = matcylparams[3:6]\n",
    "axis_pred = x2 - x1\n",
    "if axis_pred[2] < 0:\n",
    "    axis_pred = -axis_pred\n",
    "h = np.linalg.norm(axis_pred)\n",
    "axis_pred /= h\n",
    "r = matcylparams[6]\n",
    "c = (x1 + x2) / 2"
   ]
  },
  {
   "cell_type": "code",
   "execution_count": null,
   "metadata": {},
   "outputs": [],
   "source": [
    "print(monte_carlo_volume_ratio(100000, x1, x2, r, 0, 0, 1, 0))\n",
    "\n",
    "xx, yy, zz = get_cylinder_surf(x1, x2, r)\n",
    "# need to do this to change scatter point size\n",
    "randidxs = np.random.choice(np.arange(rotatedpc.shape[0]), 40000, replace=False)\n",
    "randmask = np.zeros(rotatedpc.shape[0], dtype=bool)\n",
    "randmask[randidxs] = True\n",
    "pctrace = rotatedpc[(~barrelyes) & randmask].make_traces()[0]\n",
    "pctrace[\"marker\"][\"size\"] = 4.0\n",
    "pctrace[\"opacity\"] = 0.9\n",
    "pctracebarrel = rotatedpc[barrelyes & randmask].make_traces()[0]\n",
    "pctracebarrel[\"marker\"][\"size\"] = 4.0\n",
    "pctracebarrel[\"opacity\"] = 0.9\n",
    "fig = v3d.make_fig()\n",
    "fig.add_traces([pctrace, pctracebarrel])\n",
    "fig.add_trace(get_ray_trace(c, axis_pred, length=h, width=8, color=\"#e81b00\", markersize=10))\n",
    "cylsurf = go.Surface(x=xx, y=yy, z=zz, opacity=0.4, surfacecolor=np.zeros_like(xx), colorscale=\"oranges\")\n",
    "fig.add_trace(cylsurf)\n",
    "fig.add_traces(get_surface_line_traces(xx, yy, zz, width=2, step=5, include_horizontal=False))\n",
    "xmin, xmax = np.min(rotatedpc.p[:, 0]), np.max(rotatedpc.p[:, 0])\n",
    "ymin, ymax = np.min(rotatedpc.p[:, 1]), np.max(rotatedpc.p[:, 1])\n",
    "xx, yy = np.meshgrid(np.linspace(xmin, xmax, 10), np.linspace(ymin, ymax, 10))\n",
    "zz = np.zeros_like(xx)\n",
    "planesurf = go.Surface(x=xx, y=yy, z=zz, opacity=0.1, colorscale=\"purples\")\n",
    "# fig.add_trace(planesurf)\n",
    "# fig.add_traces(get_surface_line_traces(xx, yy, zz))\n",
    "fig.update_scenes(xaxis_visible=False, yaxis_visible=False,zaxis_visible=False)\n",
    "fig.show()"
   ]
  }
 ],
 "metadata": {
  "kernelspec": {
   "display_name": "barrels",
   "language": "python",
   "name": "python3"
  },
  "language_info": {
   "codemirror_mode": {
    "name": "ipython",
    "version": 3
   },
   "file_extension": ".py",
   "mimetype": "text/x-python",
   "name": "python",
   "nbconvert_exporter": "python",
   "pygments_lexer": "ipython3",
   "version": "3.9.19"
  }
 },
 "nbformat": 4,
 "nbformat_minor": 2
}
