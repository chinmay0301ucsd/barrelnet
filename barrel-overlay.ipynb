{
 "cells": [
  {
   "cell_type": "code",
   "execution_count": null,
   "metadata": {},
   "outputs": [],
   "source": [
    "%load_ext autoreload\n",
    "%autoreload 2\n",
    "%matplotlib inline"
   ]
  },
  {
   "cell_type": "code",
   "execution_count": null,
   "metadata": {},
   "outputs": [],
   "source": [
    "import os\n",
    "from pathlib import Path\n",
    "import sys\n",
    "\n",
    "import cv2\n",
    "import dill as pickle\n",
    "import matplotlib.pyplot as plt\n",
    "import numpy as np\n",
    "import open3d as o3d\n",
    "from PIL import Image\n",
    "import plotly.graph_objects as go\n",
    "import pyransac3d as pyrsc\n",
    "import pyrender\n",
    "from tqdm import tqdm\n",
    "import trimesh\n",
    "import torch\n",
    "import visu3d as v3d\n",
    "os.environ[\"PYOPENGL_PLATFORM\"] = \"egl\"\n",
    "\n",
    "sys.path.append(os.path.join(os.getcwd(), \"dust3r\"))\n",
    "from dust3r.inference import inference\n",
    "from dust3r.model import AsymmetricCroCo3DStereo\n",
    "from dust3r.utils.image import load_images\n",
    "from dust3r.image_pairs import make_pairs\n",
    "from dust3r.cloud_opt import global_aligner, GlobalAlignerMode\n",
    "from lang_sam import LangSAM\n",
    "\n",
    "from barrelnet.pointnet.pointnet_utils import PointNetEncoder, feature_transform_reguliarzer\n",
    "from barrelnet.pointnet.barrelnet import BarrelNet\n",
    "from barrelnet.pointnet.data import pts2inference_format\n",
    "from barrelnet.dust3r_utils import save_dust3r_outs, read_dust3r, resize_to_dust3r\n",
    "from barrelnet.langsam_utils import display_image_with_masks, display_image_with_boxes\n",
    "from barrelnet.utils import cmapvals, segment_pc_from_mask, get_local_plane_mask, rotate_pts_to_ax\n",
    "from barrelnet.synthbarrel import random_cylinder_vol, random_cylinder_surf, monte_carlo_volume_ratio, generate_oriented_barrel, get_cyl_endpoints, get_cylinder_surf"
   ]
  },
  {
   "cell_type": "code",
   "execution_count": null,
   "metadata": {},
   "outputs": [],
   "source": [
    "# image_dir = Path(\"data/dive8-barrel-10-45-less\")\n",
    "# image_dir = Path(\"data/barrel1-1sec-middle\")\n",
    "# image_dir = Path(\"data/barrelddt1\")\n",
    "image_dir = Path(\"data/barrel2-5sec-contrast\")\n",
    "\n",
    "if not image_dir.exists():\n",
    "    raise FileNotFoundError(f\"Image directory {image_dir} not found.\")\n",
    "\n",
    "# H, W = (875, 1920)\n",
    "H, W = (224, 512)\n",
    "reconstr_dir = Path(f\"results/{image_dir.name}-reconstr\")\n",
    "mask_dir = reconstr_dir / \"masks\"\n",
    "mask_dir.mkdir(parents=True, exist_ok=True)\n",
    "maskcomp_dir = reconstr_dir / \"image_with_masks\"\n",
    "maskcomp_dir.mkdir(parents=True, exist_ok=True)\n",
    "ply_dir = reconstr_dir / \"pc_plys\"\n",
    "ply_dir.mkdir(parents=True, exist_ok=True)\n",
    "resizeimg_dir = reconstr_dir / \"resized\"\n",
    "resizeimg_dir.mkdir(parents=True, exist_ok=True)\n",
    "text_prompt = \"underwater barrel\"\n",
    "imgpaths = sorted(image_dir.glob(\"*.jpg\"))\n",
    "dust3rout_path = reconstr_dir / \"dust3r_out.pth\"\n",
    "\n",
    "with open(reconstr_dir / \"rotatedpts.pickle\", \"rb\") as f:\n",
    "    rotpcdict = pickle.load(f)\n",
    "\n",
    "pc = v3d.Point3d(p=rotpcdict[\"p\"], rgb=rotpcdict[\"rgb\"])\n",
    "T = rotpcdict[\"T\"]\n",
    "_, _, v3dcams = read_dust3r(dust3rout_path)\n",
    "v3dcams = v3dcams.apply_transform(v3d.Transform.from_matrix(T))\n",
    "pc_idx = 0\n",
    "v3dcam = v3dcams[pc_idx]\n",
    "v3d.make_fig([pc, v3dcam])"
   ]
  },
  {
   "cell_type": "code",
   "execution_count": null,
   "metadata": {},
   "outputs": [],
   "source": [
    "plt.imshow(v3dcam.render(pc))"
   ]
  },
  {
   "cell_type": "code",
   "execution_count": null,
   "metadata": {},
   "outputs": [],
   "source": [
    "camera_pose = np.eye(4)\n",
    "camera_pose[:3, 3] = v3dcam.world_from_cam.t\n",
    "camera_pose[:3, :3] = v3dcam.world_from_cam.R\n",
    "K = v3dcam.spec.K\n",
    "pyrcam = pyrender.camera.IntrinsicsCamera(K[0, 0], K[1, 1], K[0, 2], K[1, 2])"
   ]
  },
  {
   "cell_type": "code",
   "execution_count": null,
   "metadata": {},
   "outputs": [],
   "source": [
    "Tx180 = np.array([\n",
    "    [1, 0, 0, 0],\n",
    "    [0, -1, 0, 0],\n",
    "    [0, 0, -1, 0],\n",
    "    [0, 0, 0, 1]\n",
    "])\n",
    "camera_pose = np.eye(4)\n",
    "camera_pose[:3, 3] = v3dcam.world_from_cam.t\n",
    "camera_pose[:3, :3] = v3dcam.world_from_cam.R\n",
    "camera_pose = camera_pose @ Tx180\n",
    "K = v3dcam.spec.K\n",
    "pyrcam = pyrender.camera.IntrinsicsCamera(K[0, 0], K[1, 1], K[0, 2], K[1, 2])\n",
    "\n",
    "pcmesh = pyrender.Mesh.from_points(pc.p, colors=pc.rgb)\n",
    "# m = pyrender.Mesh.from_points(cylpts, colors=cylcols)\n",
    "cylmesh = pyrender.Mesh.from_trimesh(trimesh.creation.cylinder(radius=0.01, height=0.02, sections=10))\n",
    "cylpose = np.eye(4)\n",
    "cylpose[:3, 3] = np.array([-0.01, 0.2, 0.05])\n",
    "scene = pyrender.Scene()\n",
    "scene.add(pcmesh)\n",
    "scene.add(cylmesh, pose=cylpose)\n",
    "scene.add(pyrcam, pose=camera_pose)\n",
    "light = pyrender.SpotLight(color=np.ones(3), intensity=1.0,\n",
    "                            innerConeAngle=np.pi/16.0,\n",
    "                            outerConeAngle=np.pi/6.0)\n",
    "scene.add(light, pose=camera_pose)\n",
    "r = pyrender.OffscreenRenderer(W, H)\n",
    "color, depth = r.render(scene)\n",
    "r.delete()\n",
    "plt.imshow(color)"
   ]
  },
  {
   "cell_type": "code",
   "execution_count": null,
   "metadata": {},
   "outputs": [],
   "source": []
  }
 ],
 "metadata": {
  "kernelspec": {
   "display_name": "barrels",
   "language": "python",
   "name": "python3"
  },
  "language_info": {
   "codemirror_mode": {
    "name": "ipython",
    "version": 3
   },
   "file_extension": ".py",
   "mimetype": "text/x-python",
   "name": "python",
   "nbconvert_exporter": "python",
   "pygments_lexer": "ipython3",
   "version": "3.9.19"
  }
 },
 "nbformat": 4,
 "nbformat_minor": 2
}
