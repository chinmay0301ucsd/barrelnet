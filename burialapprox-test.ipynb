{
 "cells": [
  {
   "cell_type": "code",
   "execution_count": null,
   "metadata": {},
   "outputs": [],
   "source": [
    "## Experiment to check how much monte carlo approach differs from the z  - 0.5 approx\n",
    "import torch\n",
    "import numpy as np \n",
    "from barrelnet.synthbarrel import random_cylinder, monte_carlo_volume_ratio\n",
    "import matplotlib.pyplot as plt\n",
    "from tqdm import tqdm\n",
    "\n",
    "\n",
    "def sample_normals(num_samples, device='cuda'):\n",
    "\t\"\"\"\n",
    "\tSample random unit vectors uniformly distributed on the upper hemisphere.\n",
    "\t\n",
    "\tArgs:\n",
    "\t\tnum_samples (int): Number of unit vectors to sample.\n",
    "\t\tdevice (str): Device to perform the computation ('cpu' or 'cuda').\n",
    "\t\t\n",
    "\tReturns:\n",
    "\t\ttorch.Tensor: Tensor of shape (num_samples, 3) containing the sampled unit vectors.\n",
    "\t\"\"\"\n",
    "\tphi = torch.rand(num_samples, device=device) * 2 * torch.pi\n",
    "\ttheta = torch.acos(torch.rand(num_samples, device=device))\n",
    "\n",
    "\tx = torch.sin(theta) * torch.cos(phi)\n",
    "\ty = torch.sin(theta) * torch.sin(phi)\n",
    "\tz = torch.cos(theta)\n",
    "\n",
    "\treturn torch.stack((x, y, z), dim=1)\n",
    "\n",
    "\n",
    "normals = sample_normals(10000).cpu().numpy()\n",
    "\n",
    "height = 2.3 \n",
    "radius = 1.0\n",
    "\n",
    "gt, approx = [], []\n",
    "for normal in tqdm(normals):\n",
    "\tshift = (np.random.rand(1) - 0.5)[0]\n",
    "\torigin = np.array([0., 0., shift*height])\n",
    "\tx1 = origin + normal*height/2\n",
    "\tx2 = origin - normal*height/2 \n",
    "\n",
    "\ta,b,c,d = 0,0,1,0 # ax + by + cz +d = 0 \n",
    "\tburial_frac_gt = 1 - monte_carlo_volume_ratio(100000, x1, x2, radius, a,b,c,d)\n",
    "\tburial_frac_approx = np.clip(0.5 - shift,0,1)\n",
    "\tgt.append(burial_frac_gt)\n",
    "\tapprox.append(burial_frac_approx)\n",
    "\n",
    "plt.scatter(gt, approx)\n",
    "plt.xlabel('Ground Truth Burial Percentage')\n",
    "plt.ylabel('Approximation with 0.5 - shift')"
   ]
  }
 ],
 "metadata": {
  "kernelspec": {
   "display_name": "barrels",
   "language": "python",
   "name": "python3"
  },
  "language_info": {
   "name": "python",
   "version": "3.9.19"
  }
 },
 "nbformat": 4,
 "nbformat_minor": 2
}
